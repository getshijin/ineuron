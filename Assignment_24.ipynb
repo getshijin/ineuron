{
 "cells": [
  {
   "cell_type": "code",
   "execution_count": null,
   "id": "a568cabb",
   "metadata": {},
   "outputs": [],
   "source": [
    "1. What is the relationship between def statements and lambda expressions ?"
   ]
  },
  {
   "cell_type": "code",
   "execution_count": null,
   "id": "208294cf",
   "metadata": {},
   "outputs": [],
   "source": [
    "#In python, def defined functions are commonly used because of their simplicity. The def defined functions do \n",
    "#not return anything if not explicitly returned whereas the lambda function does return an object. The def \n",
    "#functions must be declared in the namespace. The def functions can perform any python task including multiple \n",
    "#conditions, nested conditions or loops of any level, printing, importing libraries, raising Exceptions, etc. "
   ]
  },
  {
   "cell_type": "code",
   "execution_count": null,
   "id": "5e7ef772",
   "metadata": {},
   "outputs": [],
   "source": [
    "2. What is the benefit of lambda?\n"
   ]
  },
  {
   "cell_type": "code",
   "execution_count": null,
   "id": "06670e0a",
   "metadata": {},
   "outputs": [],
   "source": [
    "#Execution time of the program is fast for the same operation.\n",
    "#Defined using the keyword lambda and does not compulsorily hold a function name in the local namespace"
   ]
  },
  {
   "cell_type": "code",
   "execution_count": null,
   "id": "d1e76009",
   "metadata": {},
   "outputs": [],
   "source": [
    "3. Compare and contrast map, filter, and reduce.\n"
   ]
  },
  {
   "cell_type": "code",
   "execution_count": 9,
   "id": "c4547b7a",
   "metadata": {},
   "outputs": [
    {
     "name": "stdout",
     "output_type": "stream",
     "text": [
      "1\n",
      "4\n",
      "9\n",
      "16\n",
      "25\n",
      "filter\n",
      "2\n",
      "4\n"
     ]
    }
   ],
   "source": [
    "l =[1,2,3,4,5]\n",
    "result=map(lambda x: x**2,l) \n",
    "\n",
    "for i in result:\n",
    "    print(i)\n",
    "print(\"filter\")\n",
    "output = filter( lambda x: x %2 ==0, l)\n",
    "for i in output:\n",
    "    print(i)"
   ]
  },
  {
   "cell_type": "code",
   "execution_count": null,
   "id": "a4ab8fa4",
   "metadata": {},
   "outputs": [],
   "source": [
    "4. What are function annotations, and how are they used?\n"
   ]
  },
  {
   "cell_type": "code",
   "execution_count": null,
   "id": "f901fda8",
   "metadata": {},
   "outputs": [],
   "source": [
    "Function annotations, both for parameters and return values, are completely optional. Function annotations are nothing more than a way of associating arbitrary Python expressions with various parts of a function at compile-time. By itself, Python does not attach any particular meaning or significance to annotations"
   ]
  },
  {
   "cell_type": "code",
   "execution_count": null,
   "id": "02ee625c",
   "metadata": {},
   "outputs": [],
   "source": [
    "5. What are recursive functions, and how are they used?\n"
   ]
  },
  {
   "cell_type": "code",
   "execution_count": 12,
   "id": "2463cd8f",
   "metadata": {},
   "outputs": [
    {
     "data": {
      "text/plain": [
       "6"
      ]
     },
     "execution_count": 12,
     "metadata": {},
     "output_type": "execute_result"
    }
   ],
   "source": [
    "\n",
    "def factorial(a):\n",
    "    '''This ia finction to find the factorial'''\n",
    "    if a==1:\n",
    "        return 1\n",
    "    else :\n",
    "        return (a*factorial(a-1))\n",
    "factorial(3)"
   ]
  },
  {
   "cell_type": "code",
   "execution_count": null,
   "id": "1db7919d",
   "metadata": {},
   "outputs": [],
   "source": [
    "6. What are some general design guidelines for coding functions?\n"
   ]
  },
  {
   "cell_type": "code",
   "execution_count": null,
   "id": "992e7c6a",
   "metadata": {},
   "outputs": [],
   "source": [
    "# give an comment for all the function using trille cotts\n",
    "#Function fill be having an finction definition and function call\n",
    "# function defined by def key word"
   ]
  },
  {
   "cell_type": "code",
   "execution_count": null,
   "id": "172ef616",
   "metadata": {},
   "outputs": [],
   "source": [
    "7. Name three or more ways that functions can communicate results to a caller."
   ]
  },
  {
   "cell_type": "code",
   "execution_count": null,
   "id": "969fc4d5",
   "metadata": {},
   "outputs": [],
   "source": []
  },
  {
   "cell_type": "code",
   "execution_count": null,
   "id": "bddf165e",
   "metadata": {},
   "outputs": [],
   "source": []
  },
  {
   "cell_type": "code",
   "execution_count": null,
   "id": "6bca29f0",
   "metadata": {},
   "outputs": [],
   "source": []
  },
  {
   "cell_type": "code",
   "execution_count": null,
   "id": "4ad8ab96",
   "metadata": {},
   "outputs": [],
   "source": []
  },
  {
   "cell_type": "code",
   "execution_count": null,
   "id": "97c82857",
   "metadata": {},
   "outputs": [],
   "source": []
  },
  {
   "cell_type": "code",
   "execution_count": null,
   "id": "6c971325",
   "metadata": {},
   "outputs": [],
   "source": []
  },
  {
   "cell_type": "code",
   "execution_count": null,
   "id": "fd11d68c",
   "metadata": {},
   "outputs": [],
   "source": []
  }
 ],
 "metadata": {
  "kernelspec": {
   "display_name": "Python 3 (ipykernel)",
   "language": "python",
   "name": "python3"
  },
  "language_info": {
   "codemirror_mode": {
    "name": "ipython",
    "version": 3
   },
   "file_extension": ".py",
   "mimetype": "text/x-python",
   "name": "python",
   "nbconvert_exporter": "python",
   "pygments_lexer": "ipython3",
   "version": "3.8.10"
  }
 },
 "nbformat": 4,
 "nbformat_minor": 5
}
