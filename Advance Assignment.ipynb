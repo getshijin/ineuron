{
 "cells": [
  {
   "cell_type": "code",
   "execution_count": null,
   "id": "a3b2c1ad",
   "metadata": {},
   "outputs": [],
   "source": [
    "Q1. What is the relationship between classes and modules?"
   ]
  },
  {
   "cell_type": "code",
   "execution_count": null,
   "id": "6c0f6fd5",
   "metadata": {},
   "outputs": [],
   "source": [
    "Modules are collections of methods and constants. They cannot generate instances. Classes may generate instances \n",
    "(objects), and have per-instance state (instance variables)."
   ]
  },
  {
   "cell_type": "code",
   "execution_count": null,
   "id": "fabf1fb4",
   "metadata": {},
   "outputs": [],
   "source": [
    "Q2. How do you make instances and classes?"
   ]
  },
  {
   "cell_type": "code",
   "execution_count": null,
   "id": "2b1fe3e2",
   "metadata": {},
   "outputs": [],
   "source": [
    "To create instances of a class, you call the class using class name and pass in whatever arguments its __init__ \n",
    "method accepts."
   ]
  },
  {
   "cell_type": "code",
   "execution_count": null,
   "id": "aaa6a8fa",
   "metadata": {},
   "outputs": [],
   "source": [
    "Q3. Where and how should be class attributes created?"
   ]
  },
  {
   "cell_type": "code",
   "execution_count": null,
   "id": "438acc89",
   "metadata": {},
   "outputs": [],
   "source": [
    "Class attributes are attributes which are owned by the class itself. They will be shared by all the instances of the\n",
    "class. Therefore they have the same value for every instance. We define class attributes outside all the methods, \n",
    "usually they are placed at the top, right below the class header."
   ]
  },
  {
   "cell_type": "code",
   "execution_count": null,
   "id": "9d45a514",
   "metadata": {},
   "outputs": [],
   "source": [
    "Q4. Where and how are instance attributes created?"
   ]
  },
  {
   "cell_type": "code",
   "execution_count": null,
   "id": "a756bd71",
   "metadata": {},
   "outputs": [],
   "source": [
    "Instance attributes are defined in the constructor. Defined directly inside a class. Defined inside a constructor\n",
    "using the self parameter. Shared across all objects."
   ]
  },
  {
   "cell_type": "code",
   "execution_count": null,
   "id": "c0b85568",
   "metadata": {},
   "outputs": [],
   "source": [
    "Q5. What does the term \"self\" in a Python class mean?"
   ]
  },
  {
   "cell_type": "code",
   "execution_count": null,
   "id": "b8320aa9",
   "metadata": {},
   "outputs": [],
   "source": [
    "self represents the instance of the class. By using the “self” keyword we can access the attributes and methods of \n",
    "the class in python. It binds the attributes with the given arguments."
   ]
  },
  {
   "cell_type": "code",
   "execution_count": null,
   "id": "4924424c",
   "metadata": {},
   "outputs": [],
   "source": [
    "Q6. How does a Python class handle operator overloading?"
   ]
  },
  {
   "cell_type": "code",
   "execution_count": null,
   "id": "6f8c6629",
   "metadata": {},
   "outputs": [],
   "source": [
    "To perform operator overloading, Python provides some special function or magic function that is automatically \n",
    "invoked when it is associated with that particular operator. For example, when we use + operator, the magic \n",
    "method __add__ is automatically invoked in which the operation for + operator is defined."
   ]
  },
  {
   "cell_type": "code",
   "execution_count": null,
   "id": "d35f632f",
   "metadata": {},
   "outputs": [],
   "source": [
    "Q7. When do you consider allowing operator overloading of your classes?"
   ]
  },
  {
   "cell_type": "code",
   "execution_count": null,
   "id": "83261db0",
   "metadata": {},
   "outputs": [],
   "source": [
    "Operator Overloading means giving extended meaning beyond their predefined operational meaning. For example operator\n",
    "+ is used to add two integers as well as join two strings and merge two lists. It is achievable because '+' operator\n",
    "is overloaded by int class and str class."
   ]
  },
  {
   "cell_type": "code",
   "execution_count": null,
   "id": "53eed01f",
   "metadata": {},
   "outputs": [],
   "source": [
    "Q8. What is the most popular form of operator overloading?"
   ]
  },
  {
   "cell_type": "code",
   "execution_count": null,
   "id": "9943fd31",
   "metadata": {},
   "outputs": [],
   "source": [
    "A very popular and convenient example is the Addition (+) operator. Just think how the '+' operator operates on two \n",
    "numbers and the same operator operates on two strings. It performs “Addition” on numbers whereas it performs \n",
    "“Concatenation” on strings."
   ]
  },
  {
   "cell_type": "code",
   "execution_count": null,
   "id": "5c25f450",
   "metadata": {},
   "outputs": [],
   "source": [
    "Q9. What are the two most important concepts to grasp in order to comprehend Python OOP code?"
   ]
  },
  {
   "cell_type": "code",
   "execution_count": null,
   "id": "bc5c7d44",
   "metadata": {},
   "outputs": [],
   "source": [
    "In order to develop robust and well-designed software products with Python, it is essential to obtain a \n",
    "comprehensive understanding of OOP. In this article, we will elaborate on two key concepts of OOP which are \n",
    "inheritance and polymorphism"
   ]
  }
 ],
 "metadata": {
  "kernelspec": {
   "display_name": "Python 3 (ipykernel)",
   "language": "python",
   "name": "python3"
  },
  "language_info": {
   "codemirror_mode": {
    "name": "ipython",
    "version": 3
   },
   "file_extension": ".py",
   "mimetype": "text/x-python",
   "name": "python",
   "nbconvert_exporter": "python",
   "pygments_lexer": "ipython3",
   "version": "3.8.10"
  }
 },
 "nbformat": 4,
 "nbformat_minor": 5
}
