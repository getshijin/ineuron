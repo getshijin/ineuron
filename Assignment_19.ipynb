{
 "cells": [
  {
   "cell_type": "markdown",
   "id": "9ed697f8",
   "metadata": {},
   "source": [
    "1. Make a class called Thing with no contents and print it. Then, create an object called example from this class and also print it. Are the printed values the same or different?\n",
    "\n"
   ]
  },
  {
   "cell_type": "code",
   "execution_count": 2,
   "id": "1a33d437",
   "metadata": {},
   "outputs": [
    {
     "name": "stdout",
     "output_type": "stream",
     "text": [
      "<__main__.thing object at 0x7feabc2277c0>\n"
     ]
    }
   ],
   "source": [
    "class thing:\n",
    "    pass\n",
    "example =thing()\n",
    "print (example)"
   ]
  },
  {
   "cell_type": "markdown",
   "id": "4b1efca5",
   "metadata": {},
   "source": [
    ". Create a new class called Thing2 and add the value 'abc' to the letters class attribute. Letters should be printed.\n"
   ]
  },
  {
   "cell_type": "code",
   "execution_count": 3,
   "id": "c9fc61bf",
   "metadata": {},
   "outputs": [
    {
     "name": "stdout",
     "output_type": "stream",
     "text": [
      "abc\n"
     ]
    }
   ],
   "source": [
    "class thing2:\n",
    "    letters= 'abc'\n",
    "obj= thing2()\n",
    "print(obj.letters)"
   ]
  },
  {
   "cell_type": "markdown",
   "id": "04133f06",
   "metadata": {},
   "source": [
    "3. Make yet another class called, of course, Thing3. This time, assign the value 'xyz' to an instance (object) attribute called letters. Print letters. Do you need to make an object from the class to do this?\n"
   ]
  },
  {
   "cell_type": "code",
   "execution_count": 4,
   "id": "e93ead3e",
   "metadata": {},
   "outputs": [
    {
     "name": "stdout",
     "output_type": "stream",
     "text": [
      "xyz\n"
     ]
    }
   ],
   "source": [
    "class thing3:\n",
    "    pass\n",
    "obj= thing3\n",
    "obj.letters= 'xyz'\n",
    "print(obj.letters)\n",
    "    "
   ]
  },
  {
   "cell_type": "markdown",
   "id": "a51d86ce",
   "metadata": {},
   "source": [
    "4. Create an Element class with the instance attributes name, symbol, and number. Create a class object with the values 'Hydrogen,' 'H,' and 1.\n"
   ]
  },
  {
   "cell_type": "code",
   "execution_count": 5,
   "id": "a511e515",
   "metadata": {},
   "outputs": [],
   "source": [
    "class element:\n",
    "    name = 'Hydrogen'\n",
    "    symbol = 'H'\n",
    "    number = 1"
   ]
  },
  {
   "cell_type": "markdown",
   "id": "1f040e9d",
   "metadata": {},
   "source": [
    "5. Make a dictionary with these keys and values: 'name': 'Hydrogen', 'symbol': 'H', 'number': 1. Then, create an object called hydrogen from class Element using this dictionary.\n"
   ]
  },
  {
   "cell_type": "code",
   "execution_count": 6,
   "id": "fb23074f",
   "metadata": {},
   "outputs": [
    {
     "name": "stdout",
     "output_type": "stream",
     "text": [
      "Hydrogen\n",
      "H\n",
      "1\n"
     ]
    }
   ],
   "source": [
    "class element:\n",
    "    def __init__(self, dic):\n",
    "        for i,j in dic.items():\n",
    "            i = j\n",
    "            print(i)\n",
    "    \n",
    "    \n",
    "dic = {'name': 'Hydrogen', 'symbol': 'H', 'number': 1}\n",
    "hydrogen = element(dic)\n",
    "#hydrogen.dic\n"
   ]
  },
  {
   "cell_type": "markdown",
   "id": "229df9f6",
   "metadata": {},
   "source": [
    "6. For the Element class, define a method called dump() that prints the values of the object’s attributes (name, symbol, and number). Create the hydrogen object from this new definition and use dump() to print its attributes.\n"
   ]
  },
  {
   "cell_type": "code",
   "execution_count": 7,
   "id": "f92cb417",
   "metadata": {},
   "outputs": [
    {
     "name": "stdout",
     "output_type": "stream",
     "text": [
      "name is  Hydrogen\n",
      "Symbol is  H\n",
      "Value is  1\n"
     ]
    }
   ],
   "source": [
    "class element:\n",
    "    def __init__(self, a, b,c):\n",
    "        self.name = a\n",
    "        self.symbol = b\n",
    "        self.number = c\n",
    "    def dump(self):\n",
    "        print(\"name is \", self.name)\n",
    "        print(\"Symbol is \", self.symbol)\n",
    "        print(\"Value is \", self.number)\n",
    "hydrogen = element('Hydrogen','H',1)\n",
    "hydrogen.dump()"
   ]
  },
  {
   "cell_type": "markdown",
   "id": "bacf68de",
   "metadata": {},
   "source": [
    "7. Call print(hydrogen). In the definition of Element, change the name of method dump to __str__, create a new hydrogen object, and call print(hydrogen) again.\n"
   ]
  },
  {
   "cell_type": "code",
   "execution_count": 10,
   "id": "053ad44d",
   "metadata": {},
   "outputs": [
    {
     "name": "stdout",
     "output_type": "stream",
     "text": [
      "<__main__.element object at 0x7feabc227b20>\n",
      "end\n",
      "name is  Hydrogen\n",
      "Symbol is  H\n",
      "Value is  1\n",
      "Hydrogen\n"
     ]
    }
   ],
   "source": [
    "print(hydrogen)\n",
    "print(\"end\")\n",
    "class element:\n",
    "    def __init__(self, a, b,c):\n",
    "        self.name = a\n",
    "        self.symbol = b\n",
    "        self.number = c\n",
    "    def __str__(self):\n",
    "        print(\"name is \", self.name)\n",
    "        print(\"Symbol is \", self.symbol)\n",
    "        print(\"Value is \", self.number)\n",
    "        return str(self.name)\n",
    "hydrogen1 = element('Hydrogen','H','1')\n",
    "print(hydrogen1)"
   ]
  },
  {
   "cell_type": "markdown",
   "id": "ec1f11f8",
   "metadata": {},
   "source": [
    "8. Modify Element to make the attributes name, symbol, and number private. Define a getter property for each to return its value.\n"
   ]
  },
  {
   "cell_type": "code",
   "execution_count": null,
   "id": "0809d8c5",
   "metadata": {},
   "outputs": [],
   "source": [
    "class element:\n",
    "    def "
   ]
  },
  {
   "cell_type": "markdown",
   "id": "70fd1176",
   "metadata": {},
   "source": [
    "9. Define three classes: Bear, Rabbit, and Octothorpe. For each, define only one method: eats(). This should return 'berries' (Bear), 'clover' (Rabbit), or 'campers' (Octothorpe). Create one object from each and print what it eats.\n"
   ]
  },
  {
   "cell_type": "code",
   "execution_count": 12,
   "id": "9c2fc2d9",
   "metadata": {},
   "outputs": [
    {
     "name": "stdout",
     "output_type": "stream",
     "text": [
      "berries\n",
      "clover\n",
      "campers\n"
     ]
    }
   ],
   "source": [
    "\n",
    "class Bear:\n",
    "    def eat(self):\n",
    "        return 'berries' \n",
    "class Rabbit:\n",
    "    def eat(self):\n",
    "        return 'clover' \n",
    "class Octothorpe:\n",
    "    def eat(self):\n",
    "        return 'campers'\n",
    "    \n",
    "a = Bear()\n",
    "b = Rabbit()\n",
    "c = Octothorpe()\n",
    "\n",
    "print(a.eat())\n",
    "print(b.eat())\n",
    "print(c.eat())\n"
   ]
  },
  {
   "cell_type": "markdown",
   "id": "d0100ca1",
   "metadata": {},
   "source": [
    "10. Define these classes: Laser, Claw, and SmartPhone. Each has only one method: does(). This returns 'disintegrate' (Laser), 'crush' (Claw), or 'ring' (SmartPhone). Then, define the class Robot that has one instance (object) of each of these. Define a does() method for the Robot that prints what its component objects do."
   ]
  },
  {
   "cell_type": "code",
   "execution_count": 2,
   "id": "243501a8",
   "metadata": {},
   "outputs": [],
   "source": [
    "class Laser:\n",
    "    def does(self):\n",
    "        return 'disintegrate'\n",
    "class Claw:\n",
    "    def does(self):\n",
    "        return 'crush'\n",
    "class SmartPhone:\n",
    "    def does(self):\n",
    "        return 'ring'\n",
    "    \n",
    "class Robot:\n",
    "    def does():\n",
    "        print(self.)"
   ]
  },
  {
   "cell_type": "code",
   "execution_count": null,
   "id": "2a1e3ecf",
   "metadata": {},
   "outputs": [],
   "source": []
  },
  {
   "cell_type": "code",
   "execution_count": null,
   "id": "f56c2aff",
   "metadata": {},
   "outputs": [],
   "source": []
  }
 ],
 "metadata": {
  "kernelspec": {
   "display_name": "Python 3 (ipykernel)",
   "language": "python",
   "name": "python3"
  },
  "language_info": {
   "codemirror_mode": {
    "name": "ipython",
    "version": 3
   },
   "file_extension": ".py",
   "mimetype": "text/x-python",
   "name": "python",
   "nbconvert_exporter": "python",
   "pygments_lexer": "ipython3",
   "version": "3.8.10"
  }
 },
 "nbformat": 4,
 "nbformat_minor": 5
}
