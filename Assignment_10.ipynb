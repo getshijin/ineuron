{
 "cells": [
  {
   "cell_type": "markdown",
   "id": "e08b3592",
   "metadata": {},
   "source": [
    "1. How do you distinguish between shutil.copy() and shutil.copytree()?"
   ]
  },
  {
   "cell_type": "markdown",
   "id": "6cd72d3d",
   "metadata": {},
   "source": [
    "While shutil. copy() will copy a single file, shutil. copytree() will copy an entire folder and every folder and file contained in it."
   ]
  },
  {
   "cell_type": "markdown",
   "id": "2b32e6af",
   "metadata": {},
   "source": [
    "2. What function is used to rename files??"
   ]
  },
  {
   "cell_type": "markdown",
   "id": "8552d0a8",
   "metadata": {},
   "source": [
    "os. rename() method in Python is used to rename a file or directory"
   ]
  },
  {
   "cell_type": "markdown",
   "id": "0db51f43",
   "metadata": {},
   "source": [
    "3. What is the difference between the delete functions in the send2trash and shutil modules?"
   ]
  },
  {
   "cell_type": "markdown",
   "id": "d097a7c9",
   "metadata": {},
   "source": [
    "The send2trash functions will move a file or folder to the recycle bin, while shutil functions will permanently delete files and folders."
   ]
  },
  {
   "cell_type": "markdown",
   "id": "62f6bb8d",
   "metadata": {},
   "source": [
    "    4.ZipFile objects have a close() method just like File objects’ close() method. What ZipFile method is equivalent to File objects’ open() method?"
   ]
  },
  {
   "cell_type": "markdown",
   "id": "e65aab7b",
   "metadata": {},
   "source": [
    "open() is alo available in Zipfile"
   ]
  },
  {
   "cell_type": "markdown",
   "id": "ddde6eb6",
   "metadata": {},
   "source": [
    "5. Create a programme that searches a folder tree for files with a certain file extension (such as .pdf or .jpg). Copy these files from whatever location they are in to a new folder."
   ]
  },
  {
   "cell_type": "code",
   "execution_count": 2,
   "id": "0722aa29",
   "metadata": {},
   "outputs": [
    {
     "data": {
      "text/plain": [
       "'/home/shijin/Downloads/FULL_stack_DS/Assignments'"
      ]
     },
     "execution_count": 2,
     "metadata": {},
     "output_type": "execute_result"
    }
   ],
   "source": [
    "import shutil\n",
    "import os\n",
    "os.getcwd()"
   ]
  },
  {
   "cell_type": "code",
   "execution_count": 9,
   "id": "9466053e",
   "metadata": {},
   "outputs": [
    {
     "name": "stdout",
     "output_type": "stream",
     "text": [
      "Looking in /home/shijin/Downloads/FULL_stack_DS/Assignments for files with extensions of .jpg, .pdf\n",
      "Coping /home/shijin/Downloads/FULL_stack_DS/Assignments/N0516593.pdf to /home/shijin/Downloads/\n",
      "Coping /home/shijin/Downloads/FULL_stack_DS/Assignments/Shijin_UAE.pdf to /home/shijin/Downloads/\n"
     ]
    }
   ],
   "source": [
    "folder='/home/shijin/Downloads/FULL_stack_DS/Assignments'\n",
    "destFolder= '/home/shijin/Downloads/'\n",
    "extensions= ['.jpg', '.pdf']\n",
    "try :\n",
    "    \n",
    "    print('Looking in', folder, 'for files with extensions of', ', '.join(extensions))\n",
    "    for foldername, subfolders, filenames in os.walk(folder):\n",
    "        for filename in filenames:\n",
    "            name, extension = os.path.splitext(filename)\n",
    "            if extension in extensions:\n",
    "                fileAbsPath = foldername + os.path.sep + filename\n",
    "                print('Coping', fileAbsPath, 'to', destFolder)\n",
    "                shutil.copy(fileAbsPath, destFolder)\n",
    "except Exception as e:\n",
    "    print('error ', e)"
   ]
  }
 ],
 "metadata": {
  "kernelspec": {
   "display_name": "Python 3 (ipykernel)",
   "language": "python",
   "name": "python3"
  },
  "language_info": {
   "codemirror_mode": {
    "name": "ipython",
    "version": 3
   },
   "file_extension": ".py",
   "mimetype": "text/x-python",
   "name": "python",
   "nbconvert_exporter": "python",
   "pygments_lexer": "ipython3",
   "version": "3.8.10"
  }
 },
 "nbformat": 4,
 "nbformat_minor": 5
}
