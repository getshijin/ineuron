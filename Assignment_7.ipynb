{
 "cells": [
  {
   "cell_type": "markdown",
   "id": "68671ce5",
   "metadata": {},
   "source": [
    "1. What is the name of the feature responsible for generating Regex objects?\n"
   ]
  },
  {
   "cell_type": "markdown",
   "id": "a2a27040",
   "metadata": {},
   "source": [
    "\n",
    "The re. compile() function returns Regex objects."
   ]
  },
  {
   "cell_type": "markdown",
   "id": "ccf0836a",
   "metadata": {},
   "source": [
    "2. Why do raw strings often appear in Regex objects?\n"
   ]
  },
  {
   "cell_type": "markdown",
   "id": "4ffc807b",
   "metadata": {},
   "source": [
    "Raw strings are used so that backslashes do not have to be escaped. ... Parentheses and periods have specific meanings in regular expression syntax."
   ]
  },
  {
   "cell_type": "markdown",
   "id": "2caa9c61",
   "metadata": {},
   "source": [
    "3. What is the return value of the search() method?\n"
   ]
  },
  {
   "cell_type": "markdown",
   "id": "94c1fc9b",
   "metadata": {},
   "source": [
    "The re.search() function takes two parameters and returns a match object if there is a match. If there is more than one match, only the first occurrence of the match will be returned. If no matches are found, the value None is returned"
   ]
  },
  {
   "cell_type": "markdown",
   "id": "7e61ffb2",
   "metadata": {},
   "source": [
    "4. From a Match item, how do you get the actual strings that match the pattern?\n"
   ]
  },
  {
   "cell_type": "markdown",
   "id": "74e71b7b",
   "metadata": {},
   "source": [
    "The group() method returns strings of the matched text."
   ]
  },
  {
   "cell_type": "markdown",
   "id": "acf0a466",
   "metadata": {},
   "source": [
    "5. In the regex which created from the r'(\\d\\d\\d)-(\\d\\d\\d-\\d\\d\\d\\d)', what does group zero cover? Group 2? Group 1?\n"
   ]
  },
  {
   "cell_type": "code",
   "execution_count": 2,
   "id": "fd6a76dd",
   "metadata": {},
   "outputs": [
    {
     "name": "stdout",
     "output_type": "stream",
     "text": [
      "415\n",
      "555-4242\n",
      "415-555-4242\n"
     ]
    }
   ],
   "source": [
    "import re\n",
    "phoneNumRegex = re.compile(r'(\\d\\d\\d)-(\\d\\d\\d-\\d\\d\\d\\d)')\n",
    "mo = phoneNumRegex.search('My number is 415-555-4242.')\n",
    "print(mo.group(1))\n",
    "#'415'\n",
    "print(mo.group(2))\n",
    "print(mo.group(0))"
   ]
  },
  {
   "cell_type": "markdown",
   "id": "41dda485",
   "metadata": {},
   "source": [
    "6. In standard expression syntax, parentheses and intervals have distinct meanings. How can you tell a regex that you want it to fit real parentheses and periods?\n"
   ]
  },
  {
   "cell_type": "markdown",
   "id": "bc3bd6b5",
   "metadata": {},
   "source": [
    "Use parentheses ( ) to create a back reference."
   ]
  },
  {
   "cell_type": "markdown",
   "id": "a50a9923",
   "metadata": {},
   "source": [
    "7. The findall() method returns a string list or a list of string tuples. What causes it to return one of the two options?\n"
   ]
  },
  {
   "cell_type": "markdown",
   "id": "61798cbc",
   "metadata": {},
   "source": [
    "Return all non-overlapping matches of pattern in string, as a list of strings. The string is scanned left-to-right, and matches are returned in the order found."
   ]
  },
  {
   "cell_type": "markdown",
   "id": "98dd8e6e",
   "metadata": {},
   "source": [
    "8. In standard expressions, what does the | character mean?\n"
   ]
  },
  {
   "cell_type": "markdown",
   "id": "84274c8c",
   "metadata": {},
   "source": [
    "OR Operator (|): E.g., the regex four|4 accepts strings \"four\" or \"4\""
   ]
  },
  {
   "cell_type": "markdown",
   "id": "aa478a1f",
   "metadata": {},
   "source": [
    "9. In regular expressions, what does the character stand for?\n"
   ]
  },
  {
   "cell_type": "markdown",
   "id": "9467b172",
   "metadata": {},
   "source": [
    "\n",
    "Character: All characters, except those having special meaning in regex, matches themselves. E.g., the regex x matches substring \"x\"; regex 9 matches \"9\"; regex = matches \"=\"; and regex @ matches \"@\"."
   ]
  },
  {
   "cell_type": "markdown",
   "id": "033b17e2",
   "metadata": {},
   "source": [
    "10.In regular expressions, what is the difference between the + and * characters?\n"
   ]
  },
  {
   "cell_type": "markdown",
   "id": "83441c8b",
   "metadata": {},
   "source": [
    "+: one or more (1+), e.g., [0-9]+ matches one or more digits such as '123', '000'.\n",
    "\n",
    "*: zero or more (0+), e.g., [0-9]* matches zero or more digits. It accepts all those in [0-9]+ plus the empty string."
   ]
  },
  {
   "cell_type": "markdown",
   "id": "546983a6",
   "metadata": {},
   "source": [
    "11. What is the difference between {4} and {4,5} in regular expression?\n"
   ]
  },
  {
   "cell_type": "markdown",
   "id": "5418f7c7",
   "metadata": {},
   "source": [
    "{m,n}: m to n (both inclusive)\n",
    "{m}: exactly m times"
   ]
  },
  {
   "cell_type": "markdown",
   "id": "a43721ab",
   "metadata": {},
   "source": [
    "12. What do you mean by the \\d, \\w, and \\s shorthand character classes signify in regular expressions?\n"
   ]
  },
  {
   "cell_type": "markdown",
   "id": "30185d29",
   "metadata": {},
   "source": [
    "\\d means any one digits [0-9]\n",
    "\\w means any one characters [a-zA-Z0-9_]\n",
    "\\s mans one space [ \\n\\t\\r\\f]"
   ]
  },
  {
   "cell_type": "markdown",
   "id": "e867c09b",
   "metadata": {},
   "source": [
    "13. What do means by \\D, \\W, and \\S shorthand character classes signify in regular expressions?\n"
   ]
  },
  {
   "cell_type": "markdown",
   "id": "9010a629",
   "metadata": {},
   "source": [
    "\\D  means  not digits\n",
    "\\W means not characters\n",
    "\\S non space characters"
   ]
  },
  {
   "cell_type": "markdown",
   "id": "baae5862",
   "metadata": {},
   "source": [
    "14. What is the difference between .*? and .*?\n"
   ]
  },
  {
   "cell_type": "markdown",
   "id": "a2b93ec1",
   "metadata": {},
   "source": []
  },
  {
   "cell_type": "markdown",
   "id": "8af362d4",
   "metadata": {},
   "source": [
    "15. What is the syntax for matching both numbers and lowercase letters with a character class?\n"
   ]
  },
  {
   "cell_type": "markdown",
   "id": "f7aa9374",
   "metadata": {},
   "source": [
    "[a-zA-Z]"
   ]
  },
  {
   "cell_type": "markdown",
   "id": "9bbd63dc",
   "metadata": {},
   "source": [
    "16. What is the procedure for making a normal expression in regax case insensitive?\n"
   ]
  },
  {
   "cell_type": "markdown",
   "id": "be9647e3",
   "metadata": {},
   "source": []
  },
  {
   "cell_type": "markdown",
   "id": "837c2ba8",
   "metadata": {},
   "source": [
    "17. What does the . character normally match? What does it match if re.DOTALL is passed as 2nd argument in re.compile()?\n"
   ]
  },
  {
   "cell_type": "markdown",
   "id": "ee568f70",
   "metadata": {},
   "source": []
  },
  {
   "cell_type": "markdown",
   "id": "6627f15c",
   "metadata": {},
   "source": [
    "18. If numReg = re.compile(r'\\d+'), what will numRegex.sub('X', '11 drummers, 10 pipers, five rings, 4 hen') return?\n"
   ]
  },
  {
   "cell_type": "markdown",
   "id": "32aa9c8e",
   "metadata": {},
   "source": []
  },
  {
   "cell_type": "markdown",
   "id": "cc2bd9af",
   "metadata": {},
   "source": [
    "19. What does passing re.VERBOSE as the 2nd argument to re.compile() allow to do?\n"
   ]
  },
  {
   "cell_type": "markdown",
   "id": "0ac9bdd6",
   "metadata": {},
   "source": []
  },
  {
   "cell_type": "markdown",
   "id": "7a14c2c1",
   "metadata": {},
   "source": [
    "20. How would you write a regex that match a number with comma for every three digits? It must match the given following:\n",
    "'42'\n",
    "'1,234'\n",
    "'6,368,745'\n",
    "but not the following:\n",
    "'12,34,567' (which has only two digits between the commas)\n",
    "'1234' (which lacks commas)\n",
    "21. How would you write a regex that matches the full name of someone whose last name is Watanabe? You can assume that the first name that comes before it will always be one word that begins with a capital letter. The regex must match the following:\n",
    "'Haruto Watanabe'\n",
    "'Alice Watanabe'\n",
    "'RoboCop Watanabe'\n",
    "but not the following:\n",
    "'haruto Watanabe' (where the first name is not capitalized)\n",
    "'Mr. Watanabe' (where the preceding word has a nonletter character)\n",
    "'Watanabe' (which has no first name)\n",
    "'Haruto watanabe' (where Watanabe is not capitalized)\n",
    "22. How would you write a regex that matches a sentence where the first word is either Alice, Bob, or Carol; the second word is either eats, pets, or throws; the third word is apples, cats, or baseballs; and the sentence ends with a period? This regex should be case-insensitive. It must match the following:\n",
    "'Alice eats apples.'\n",
    "'Bob pets cats.'\n",
    "'Carol throws baseballs.'\n",
    "'Alice throws Apples.'\n",
    "'BOB EATS CATS.'\n",
    "but not the following:\n",
    "'RoboCop eats apples.'\n",
    "'ALICE THROWS FOOTBALLS.'\n",
    "'Carol eats 7 cats.'"
   ]
  },
  {
   "cell_type": "markdown",
   "id": "dd8f2f16",
   "metadata": {},
   "source": []
  }
 ],
 "metadata": {
  "kernelspec": {
   "display_name": "Python 3 (ipykernel)",
   "language": "python",
   "name": "python3"
  },
  "language_info": {
   "codemirror_mode": {
    "name": "ipython",
    "version": 3
   },
   "file_extension": ".py",
   "mimetype": "text/x-python",
   "name": "python",
   "nbconvert_exporter": "python",
   "pygments_lexer": "ipython3",
   "version": "3.8.10"
  }
 },
 "nbformat": 4,
 "nbformat_minor": 5
}
