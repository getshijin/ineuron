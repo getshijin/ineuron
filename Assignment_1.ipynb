{
 "cells": [
  {
   "cell_type": "markdown",
   "id": "9feea919",
   "metadata": {},
   "source": [
    "1. In the below elements which of them are values or an expression? eg:- values can be integer or string and expressions will be mathematical operators.\n",
    "* \n",
    "'hello'\n",
    "-87.8\n",
    "- \n",
    "/ \n",
    "    • \n",
    "6 \n",
    "\n",
    "\n"
   ]
  },
  {
   "cell_type": "markdown",
   "id": "d2f0bce5",
   "metadata": {},
   "source": [
    "Ans: \n",
    "*,-,/ are expressions \n",
    "'hello', -87.8,6 are values"
   ]
  },
  {
   "cell_type": "markdown",
   "id": "10037cfa",
   "metadata": {},
   "source": [
    "2. What is the difference between string and variable?"
   ]
  },
  {
   "cell_type": "markdown",
   "id": "dd70c958",
   "metadata": {},
   "source": [
    "Ans:\n",
    "    String: Strings are are values enclosed inside '' or \"\" . Basically group of charcters are called string and normaly we are assigning string to a varible.\n",
    "    \n",
    "Variables :A variable is basically user defined charcters . This can be chosen by you. A variable can store everything from strings, numbers, float, complex numbers, dictonaries , set ,tuples, bool and list."
   ]
  },
  {
   "cell_type": "markdown",
   "id": "4d836b28",
   "metadata": {},
   "source": [
    "3. Describe three different data types.\n",
    "Bool : usualy stores a of value 0 or 1\n",
    "List: is ually a ordeered collection of same data type or differnt data type. data are enclosed in '[]'.\n",
    "set : is aslo a collection of data in unorderd format and data inside the set are unique in nature. even though if we add duplicate data it will be overwite the previous one.data are enclosed in '{}'"
   ]
  },
  {
   "cell_type": "markdown",
   "id": "e668091f",
   "metadata": {},
   "source": [
    "4. What is an expression made up of? What do all expressions do?\n",
    "    "
   ]
  },
  {
   "cell_type": "markdown",
   "id": "46cdfd78",
   "metadata": {},
   "source": [
    "An expression is a construct made up of variables, operators, and method invocations, which are constructed according to the syntax of the language, that evaluates to a single value. ... As you can see from the other expressions, an expression can return other types of values as well, such as boolean or String ."
   ]
  },
  {
   "cell_type": "markdown",
   "id": "1a640c4b",
   "metadata": {},
   "source": [
    "5. This assignment statements, like spam = 10. What is the difference between an expression and a statement?\n"
   ]
  },
  {
   "cell_type": "markdown",
   "id": "eabe2649",
   "metadata": {},
   "source": [
    "In programming language terminology, an “expression” is a combination of values and functions that are combined and interpreted by the compiler to create a new value, as opposed to a “statement” which is just a standalone unit of execution and doesn't return anything."
   ]
  },
  {
   "cell_type": "markdown",
   "id": "c830dd41",
   "metadata": {},
   "source": [
    "6. After running the following code, what does the variable bacon contain?\n",
    "bacon = 22\n",
    "bacon + 1"
   ]
  },
  {
   "cell_type": "markdown",
   "id": "85148fe0",
   "metadata": {},
   "source": [
    ">>> bacon =22\n",
    ">>> bacon +1\n",
    "23\n",
    ">>> bacon\n",
    "22"
   ]
  },
  {
   "cell_type": "markdown",
   "id": "2024ccd2",
   "metadata": {},
   "source": [
    "7. What should the values of the following two terms be?\n",
    "'spam' + 'spamspam'\n",
    "'spam' * 3"
   ]
  },
  {
   "cell_type": "markdown",
   "id": "01aa3702",
   "metadata": {},
   "source": [
    ">>> 'spam' + 'spamspam'\n",
    "'spamspamspam'\n",
    ">>> 'spam' * 3\n",
    "'spamspamspam'\n"
   ]
  },
  {
   "cell_type": "markdown",
   "id": "20f855f2",
   "metadata": {},
   "source": [
    "8. Why is eggs a valid variable name while 100 is invalid?\n"
   ]
  },
  {
   "cell_type": "markdown",
   "id": "8ba2349e",
   "metadata": {},
   "source": [
    "Variable names cannot be a number and cannot begin with anumber"
   ]
  },
  {
   "cell_type": "markdown",
   "id": "754bbc3d",
   "metadata": {},
   "source": [
    "9. What three functions can be used to get the integer, floating-point number, or string version of a value?\n"
   ]
  },
  {
   "cell_type": "markdown",
   "id": "0ce5c20b",
   "metadata": {},
   "source": [
    "The int() , float() , and str( ) functions will evaluate to the integer, floating-point number, and string versions of the value passed to them."
   ]
  },
  {
   "cell_type": "markdown",
   "id": "19ef1731",
   "metadata": {},
   "source": [
    "10. Why does this expression cause an error? How can you fix it?\n",
    "'I have eaten ' + 99 + ' burritos.'"
   ]
  },
  {
   "cell_type": "markdown",
   "id": "db54b09d",
   "metadata": {},
   "source": [
    "'I have eaten ' + str(99) + ' burritos.'"
   ]
  }
 ],
 "metadata": {
  "kernelspec": {
   "display_name": "Python 3 (ipykernel)",
   "language": "python",
   "name": "python3"
  },
  "language_info": {
   "codemirror_mode": {
    "name": "ipython",
    "version": 3
   },
   "file_extension": ".py",
   "mimetype": "text/x-python",
   "name": "python",
   "nbconvert_exporter": "python",
   "pygments_lexer": "ipython3",
   "version": "3.8.10"
  }
 },
 "nbformat": 4,
 "nbformat_minor": 5
}
