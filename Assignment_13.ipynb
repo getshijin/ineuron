{
 "cells": [
  {
   "cell_type": "markdown",
   "id": "8f6a089d",
   "metadata": {},
   "source": [
    "1. What advantages do Excel spreadsheets have over CSV spreadsheets?\n"
   ]
  },
  {
   "cell_type": "markdown",
   "id": "960aecd1",
   "metadata": {},
   "source": [
    "Excel is more superior when compared with the CSV file format; thus, CSV consumes less amount of file size when the user is importing data; it is a much faster format compared to excel. CSV does not manipulate data and stores it as-is. Excel also allows the user the add-in feature."
   ]
  },
  {
   "cell_type": "markdown",
   "id": "05a200ac",
   "metadata": {},
   "source": [
    "2.What do you pass to csv.reader() and csv.writer() to create reader and writer objects?\n"
   ]
  },
  {
   "cell_type": "markdown",
   "id": "104f91a2",
   "metadata": {},
   "source": [
    "To write to a CSV file in Python, we can use the csv.writer() function.\n",
    "\n",
    "The csv.writer() function returns a writer object that converts the user's data into a delimited string. This string can later be used to write into CSV files using the writerow() function. Let's take an example.\n",
    "\n",
    "To read a CSV file in Python, we can use the csv.reader() function. Suppose we have a csv file named people.csv in the current directory with the following entries."
   ]
  },
  {
   "cell_type": "markdown",
   "id": "a4d36d58",
   "metadata": {},
   "source": [
    "3. What modes do File objects for reader and writer objects need to be opened in?\n"
   ]
  },
  {
   "cell_type": "markdown",
   "id": "7d3483c0",
   "metadata": {},
   "source": [
    "Mode\tDescription\n",
    "'r'\tOpen a file for reading. (default)\n",
    "'w'\tOpen a file for writing. Creates a new file if it does not exist or truncates the file if it exists.\n",
    "'x'\tOpen a file for exclusive creation. If the file already exists, the operation fails."
   ]
  },
  {
   "cell_type": "markdown",
   "id": "009b48ca",
   "metadata": {},
   "source": [
    "4. What method takes a list argument and writes it to a CSV file?\n"
   ]
  },
  {
   "cell_type": "markdown",
   "id": "d8d6aa4c",
   "metadata": {},
   "source": [
    "The csv. writer writerow method takes an iterable as an argument. Your result set has to be a list (rows) of lists (columns). Write the row parameter to the writer's file object, formatted according to the current dialect"
   ]
  },
  {
   "cell_type": "markdown",
   "id": "479b9c00",
   "metadata": {},
   "source": [
    "5. What do the keyword arguments delimiter and line terminator do?\n"
   ]
  },
  {
   "cell_type": "markdown",
   "id": "a342fb49",
   "metadata": {},
   "source": []
  },
  {
   "cell_type": "markdown",
   "id": "7d5d4180",
   "metadata": {},
   "source": [
    "6. What function takes a string of JSON data and returns a Python data structure?\n"
   ]
  },
  {
   "cell_type": "markdown",
   "id": "f88d9546",
   "metadata": {},
   "source": [
    "loads() method return Python data structure of JSON string or data."
   ]
  },
  {
   "cell_type": "markdown",
   "id": "3c5a667e",
   "metadata": {},
   "source": [
    "7. What function takes a Python data structure and returns a string of JSON data?\n"
   ]
  },
  {
   "cell_type": "markdown",
   "id": "2a7e3c09",
   "metadata": {},
   "source": [
    "What function takes a Python data structure and returns a string of JSON data?"
   ]
  }
 ],
 "metadata": {
  "kernelspec": {
   "display_name": "Python 3 (ipykernel)",
   "language": "python",
   "name": "python3"
  },
  "language_info": {
   "codemirror_mode": {
    "name": "ipython",
    "version": 3
   },
   "file_extension": ".py",
   "mimetype": "text/x-python",
   "name": "python",
   "nbconvert_exporter": "python",
   "pygments_lexer": "ipython3",
   "version": "3.8.10"
  }
 },
 "nbformat": 4,
 "nbformat_minor": 5
}
