{
 "cells": [
  {
   "cell_type": "markdown",
   "id": "6e6b754c",
   "metadata": {},
   "source": [
    "1. What exactly is []?"
   ]
  },
  {
   "cell_type": "markdown",
   "id": "0c968c77",
   "metadata": {},
   "source": [
    "is a empty list."
   ]
  },
  {
   "cell_type": "markdown",
   "id": "770b00b6",
   "metadata": {},
   "source": [
    "2. In a list of values stored in a variable called spam, how would you assign the value 'hello' as the third value? (Assume [2, 4, 6, 8, 10] are in spam.)\n",
    "\n"
   ]
  },
  {
   "cell_type": "code",
   "execution_count": 2,
   "id": "abc76808",
   "metadata": {},
   "outputs": [
    {
     "name": "stdout",
     "output_type": "stream",
     "text": [
      "[2, 4, 'hello', 8, 10]\n"
     ]
    }
   ],
   "source": [
    "spam = [2, 4, 6, 8, 10]\n",
    "spam[2] = 'hello'\n",
    "print(spam)"
   ]
  },
  {
   "cell_type": "markdown",
   "id": "45449fbe",
   "metadata": {},
   "source": [
    "Let's pretend the spam includes the list ['a', 'b', 'c', 'd'] for the next three queries.\n",
    "3. What is the value of spam[int(int('3' * 2) / 11)]?"
   ]
  },
  {
   "cell_type": "markdown",
   "id": "2662958d",
   "metadata": {},
   "source": [
    "8"
   ]
  },
  {
   "cell_type": "markdown",
   "id": "5acc8feb",
   "metadata": {},
   "source": [
    "4. What is the value of spam[-1]?\n",
    "    "
   ]
  },
  {
   "cell_type": "markdown",
   "id": "2f029ce6",
   "metadata": {},
   "source": [
    "'d'"
   ]
  },
  {
   "cell_type": "markdown",
   "id": "dacf39af",
   "metadata": {},
   "source": [
    "5. What is the value of spam[:2]?\n",
    "\n"
   ]
  },
  {
   "cell_type": "markdown",
   "id": "85dba813",
   "metadata": {},
   "source": [
    "[2,4]"
   ]
  },
  {
   "cell_type": "markdown",
   "id": "20cd8141",
   "metadata": {},
   "source": [
    "Let's pretend bacon has the list [3.14, 'cat,' 11, 'cat,' True] for the next three questions.\n",
    "6. What is the value of bacon.index('cat')?\n"
   ]
  },
  {
   "cell_type": "markdown",
   "id": "fa26725e",
   "metadata": {},
   "source": [
    "1"
   ]
  },
  {
   "cell_type": "markdown",
   "id": "36602c6d",
   "metadata": {},
   "source": [
    "7. How does bacon.append(99) change the look of the list value in bacon?\n"
   ]
  },
  {
   "cell_type": "markdown",
   "id": "ced13bc7",
   "metadata": {},
   "source": [
    "[3.14, 'cat', 11, 'cat', True, 99]"
   ]
  },
  {
   "cell_type": "markdown",
   "id": "dc1c282a",
   "metadata": {},
   "source": [
    "8. How does bacon.remove('cat') change the look of the list in bacon?\n"
   ]
  },
  {
   "cell_type": "markdown",
   "id": "68645b44",
   "metadata": {},
   "source": [
    "[3.14, 11, 'cat', True, 99]"
   ]
  },
  {
   "cell_type": "markdown",
   "id": "a15a153f",
   "metadata": {},
   "source": [
    "9. What are the list concatenation and list replication operators?\n"
   ]
  },
  {
   "cell_type": "markdown",
   "id": "203e9416",
   "metadata": {},
   "source": [
    "list concatination operater is '+' and list replication operator is '*'\n",
    "eg:\n",
    "a= [1, 2, 3] b = [ 4, 5, 6]\n",
    "c= a+ b ==> concatination.\n",
    "\n",
    "d= a* 3 ==> replication."
   ]
  },
  {
   "cell_type": "markdown",
   "id": "4eaf7464",
   "metadata": {},
   "source": [
    "10. What is difference between the list methods append() and insert()?\n"
   ]
  },
  {
   "cell_type": "markdown",
   "id": "b12c3fae",
   "metadata": {},
   "source": [
    "append() method insert the element at last of the list and Insert() method insert at the given position.\n",
    "append() take one argument and insert() take two argument. syntax: insert(position, value) & append(value)"
   ]
  },
  {
   "cell_type": "markdown",
   "id": "71862676",
   "metadata": {},
   "source": [
    "11. What are the two methods for removing items from a list?"
   ]
  },
  {
   "cell_type": "markdown",
   "id": "58a6f202",
   "metadata": {},
   "source": [
    "remove() and pop() are two inbuilt funtions two remove element from list.\n",
    "\n",
    "syntax: remove(value) ==> will delete the first occurance of the value given  & pop() ==> will delete the last element from the list."
   ]
  },
  {
   "cell_type": "markdown",
   "id": "b6751a6c",
   "metadata": {},
   "source": [
    "12. Describe how list values and string values are identical.\n"
   ]
  },
  {
   "cell_type": "markdown",
   "id": "442fcb4b",
   "metadata": {},
   "source": [
    "The values that make up a list are called its elements. Lists are similar to strings, which are ordered collections of characters, except that the elements of a list can have any type and for any one list, the items can be of different types."
   ]
  },
  {
   "cell_type": "markdown",
   "id": "053c1b62",
   "metadata": {},
   "source": [
    "13. What's the difference between tuples and lists?\n"
   ]
  },
  {
   "cell_type": "markdown",
   "id": "7bc17077",
   "metadata": {},
   "source": [
    "both are ordered collection but the list values are mutable and tuple values are unmutable. This means that tuples cannot be changed while the lists can be modified. If you have data which is not meant to be changed in the first place, you should choose tuple data type over lists"
   ]
  },
  {
   "cell_type": "markdown",
   "id": "59434da1",
   "metadata": {},
   "source": [
    "14. How do you type a tuple value that only contains the integer 42?\n"
   ]
  },
  {
   "cell_type": "code",
   "execution_count": 4,
   "id": "e69d254e",
   "metadata": {},
   "outputs": [
    {
     "name": "stdout",
     "output_type": "stream",
     "text": [
      "42\n"
     ]
    }
   ],
   "source": [
    "tup1 = (42)\n",
    "print(tup1)"
   ]
  },
  {
   "cell_type": "markdown",
   "id": "d89e1922",
   "metadata": {},
   "source": [
    "15. How do you get a list value's tuple form? How do you get a tuple value's list form?\n"
   ]
  },
  {
   "cell_type": "code",
   "execution_count": 6,
   "id": "1388683c",
   "metadata": {},
   "outputs": [
    {
     "name": "stdout",
     "output_type": "stream",
     "text": [
      "(1, 2, 3, 4)\n",
      "[5, 6, 7, 8]\n"
     ]
    }
   ],
   "source": [
    "a= [1,2,3 ,4] \n",
    "print(tuple(a))\n",
    "\n",
    "b= (5, 6, 7, 8)\n",
    "print(list(b))"
   ]
  },
  {
   "cell_type": "markdown",
   "id": "c171b18a",
   "metadata": {},
   "source": [
    "16. Variables that \"contain\" list values are not necessarily lists themselves. Instead, what do they contain?\n"
   ]
  },
  {
   "cell_type": "markdown",
   "id": "2787d5e9",
   "metadata": {},
   "source": [
    "Variables will contain references to list values rather than list values themselves. But for strings and integer values, variables simply contain the string or integer value."
   ]
  },
  {
   "cell_type": "markdown",
   "id": "dea92d09",
   "metadata": {},
   "source": [
    "17. How do you distinguish between copy.copy() and copy.deepcopy()"
   ]
  },
  {
   "cell_type": "markdown",
   "id": "72a6c414",
   "metadata": {},
   "source": []
  }
 ],
 "metadata": {
  "kernelspec": {
   "display_name": "Python 3 (ipykernel)",
   "language": "python",
   "name": "python3"
  },
  "language_info": {
   "codemirror_mode": {
    "name": "ipython",
    "version": 3
   },
   "file_extension": ".py",
   "mimetype": "text/x-python",
   "name": "python",
   "nbconvert_exporter": "python",
   "pygments_lexer": "ipython3",
   "version": "3.8.10"
  }
 },
 "nbformat": 4,
 "nbformat_minor": 5
}
