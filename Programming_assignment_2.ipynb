{
 "cells": [
  {
   "cell_type": "code",
   "execution_count": null,
   "id": "c481bbca",
   "metadata": {},
   "outputs": [],
   "source": [
    "    1. Write a Python program to convert kilometers to miles?"
   ]
  },
  {
   "cell_type": "code",
   "execution_count": 1,
   "id": "4c232852",
   "metadata": {},
   "outputs": [
    {
     "name": "stdout",
     "output_type": "stream",
     "text": [
      "enter the value10\n",
      "the kilometer in mile is 6.21371\n"
     ]
    }
   ],
   "source": [
    "import logging\n",
    "logging.basicConfig(filename='assignment.log', level=logging.WARNING,format='%(asctime)s - %(message)s')\n",
    "\n",
    "try:\n",
    "    distance = int(input('enter the value'))\n",
    "    kilm_to_mile =distance * 0.621371\n",
    "    print('the kilometer in mile is {}'.format(kilm_to_mile))\n",
    "except Exception as e:\n",
    "    print(e)"
   ]
  },
  {
   "cell_type": "code",
   "execution_count": null,
   "id": "c374af02",
   "metadata": {},
   "outputs": [],
   "source": [
    "   2. Write a Python program to convert Celsius to Fahrenheit?"
   ]
  },
  {
   "cell_type": "code",
   "execution_count": 2,
   "id": "01a58949",
   "metadata": {},
   "outputs": [
    {
     "name": "stdout",
     "output_type": "stream",
     "text": [
      "entert the heat value0\n",
      "celisus in farenheat is 32.0\n"
     ]
    }
   ],
   "source": [
    "import logging\n",
    "logging.basicConfig(filename='assignment.log', level=logging.WARNING, format='%(asctime)s -%(message)s')\n",
    "try:\n",
    "    celsius = int(input('entert the heat value'))\n",
    "    farenheat =(celsius*(9/5))+32\n",
    "    print('celisus in farenheat is {}'.format(farenheat))\n",
    "except Exception as e:\n",
    "    print(e)\n",
    "        "
   ]
  },
  {
   "cell_type": "code",
   "execution_count": null,
   "id": "8e0a7a4b",
   "metadata": {},
   "outputs": [],
   "source": [
    " 3. Write a Python program to display calendar?"
   ]
  },
  {
   "cell_type": "code",
   "execution_count": 11,
   "id": "4f5ac50e",
   "metadata": {},
   "outputs": [
    {
     "name": "stdout",
     "output_type": "stream",
     "text": [
      "    January 2020\n",
      "Mo Tu We Th Fr Sa Su\n",
      "       1  2  3  4  5\n",
      " 6  7  8  9 10 11 12\n",
      "13 14 15 16 17 18 19\n",
      "20 21 22 23 24 25 26\n",
      "27 28 29 30 31\n",
      "\n",
      "                                  3000\n",
      "\n",
      "      January                   February                   March\n",
      "Mo Tu We Th Fr Sa Su      Mo Tu We Th Fr Sa Su      Mo Tu We Th Fr Sa Su\n",
      "       1  2  3  4  5                      1  2                      1  2\n",
      " 6  7  8  9 10 11 12       3  4  5  6  7  8  9       3  4  5  6  7  8  9\n",
      "13 14 15 16 17 18 19      10 11 12 13 14 15 16      10 11 12 13 14 15 16\n",
      "20 21 22 23 24 25 26      17 18 19 20 21 22 23      17 18 19 20 21 22 23\n",
      "27 28 29 30 31            24 25 26 27 28            24 25 26 27 28 29 30\n",
      "                                                    31\n",
      "\n",
      "       April                      May                       June\n",
      "Mo Tu We Th Fr Sa Su      Mo Tu We Th Fr Sa Su      Mo Tu We Th Fr Sa Su\n",
      "    1  2  3  4  5  6                1  2  3  4                         1\n",
      " 7  8  9 10 11 12 13       5  6  7  8  9 10 11       2  3  4  5  6  7  8\n",
      "14 15 16 17 18 19 20      12 13 14 15 16 17 18       9 10 11 12 13 14 15\n",
      "21 22 23 24 25 26 27      19 20 21 22 23 24 25      16 17 18 19 20 21 22\n",
      "28 29 30                  26 27 28 29 30 31         23 24 25 26 27 28 29\n",
      "                                                    30\n",
      "\n",
      "        July                     August                  September\n",
      "Mo Tu We Th Fr Sa Su      Mo Tu We Th Fr Sa Su      Mo Tu We Th Fr Sa Su\n",
      "    1  2  3  4  5  6                   1  2  3       1  2  3  4  5  6  7\n",
      " 7  8  9 10 11 12 13       4  5  6  7  8  9 10       8  9 10 11 12 13 14\n",
      "14 15 16 17 18 19 20      11 12 13 14 15 16 17      15 16 17 18 19 20 21\n",
      "21 22 23 24 25 26 27      18 19 20 21 22 23 24      22 23 24 25 26 27 28\n",
      "28 29 30 31               25 26 27 28 29 30 31      29 30\n",
      "\n",
      "      October                   November                  December\n",
      "Mo Tu We Th Fr Sa Su      Mo Tu We Th Fr Sa Su      Mo Tu We Th Fr Sa Su\n",
      "       1  2  3  4  5                      1  2       1  2  3  4  5  6  7\n",
      " 6  7  8  9 10 11 12       3  4  5  6  7  8  9       8  9 10 11 12 13 14\n",
      "13 14 15 16 17 18 19      10 11 12 13 14 15 16      15 16 17 18 19 20 21\n",
      "20 21 22 23 24 25 26      17 18 19 20 21 22 23      22 23 24 25 26 27 28\n",
      "27 28 29 30 31            24 25 26 27 28 29 30      29 30 31\n",
      "\n"
     ]
    }
   ],
   "source": [
    "import logging\n",
    "from datetime import datetime\n",
    "import calendar\n",
    "logging.basicConfig(filename='assignment.log', level=logging.WARNING, format='%(asctime)s - %(message)s')\n",
    "\n",
    "try:\n",
    "    calender='2020 01'\n",
    "    show_calender = datetime.strptime(calender,'%Y %m')\n",
    "    print(calendar.month(show_calender.year,show_calender.month))\n",
    "    print(calendar.calendar(3000))\n",
    "except Exception as e:\n",
    "    print(e)\n",
    "    "
   ]
  },
  {
   "cell_type": "code",
   "execution_count": null,
   "id": "6842c8a3",
   "metadata": {},
   "outputs": [],
   "source": [
    "  4. Write a Python program to solve quadratic equation?\n",
    "  "
   ]
  },
  {
   "cell_type": "code",
   "execution_count": 10,
   "id": "f56d1408",
   "metadata": {},
   "outputs": [
    {
     "name": "stdout",
     "output_type": "stream",
     "text": [
      "enter value of a10\n",
      "enter value of b20\n",
      "enter value of c15\n",
      "(-100+70.71067811865476j)   (-100-70.71067811865476j)\n"
     ]
    }
   ],
   "source": [
    "import logging\n",
    "import math as m\n",
    "logging.basicConfig(filename='assignment.log', level=logging.WARNING, format='%(message)s -%(asctime)s')\n",
    "try:\n",
    "    a =int(input('enter value of a'))\n",
    "    b =int(input('enter value of b'))\n",
    "    c =int(input('enter value of c'))\n",
    "    x1 = (-b + (b**2 -(4*a*c))**0.5)/2*a\n",
    "    x2 = (-b - (b**2 -(4*a*c))**0.5)/2*a\n",
    "    print(x1,\" \", x2)\n",
    "except Exception as e:\n",
    "    print(e)"
   ]
  },
  {
   "cell_type": "code",
   "execution_count": 9,
   "id": "f7e9d540",
   "metadata": {},
   "outputs": [
    {
     "name": "stdout",
     "output_type": "stream",
     "text": [
      "Object `variable` not found.\n"
     ]
    }
   ],
   "source": [
    "  5. Write a Python program to swap two variables without temp variable?"
   ]
  },
  {
   "cell_type": "code",
   "execution_count": 13,
   "id": "630bbb04",
   "metadata": {},
   "outputs": [
    {
     "name": "stdout",
     "output_type": "stream",
     "text": [
      "enter the no10\n",
      "enter the no20\n",
      "20   10\n"
     ]
    }
   ],
   "source": [
    "try:\n",
    "    a = int(input('enter the no'))\n",
    "    b = int(input('enter the no'))\n",
    "    a, b = b, a\n",
    "    print (a,\" \",b)\n",
    "except Exception as e:\n",
    "    print(e)"
   ]
  },
  {
   "cell_type": "code",
   "execution_count": null,
   "id": "8ec52f31",
   "metadata": {},
   "outputs": [],
   "source": []
  },
  {
   "cell_type": "code",
   "execution_count": null,
   "id": "073266d3",
   "metadata": {},
   "outputs": [],
   "source": []
  },
  {
   "cell_type": "code",
   "execution_count": null,
   "id": "f70da7fe",
   "metadata": {},
   "outputs": [],
   "source": []
  },
  {
   "cell_type": "code",
   "execution_count": null,
   "id": "11b16e79",
   "metadata": {},
   "outputs": [],
   "source": []
  },
  {
   "cell_type": "code",
   "execution_count": null,
   "id": "c3b0566c",
   "metadata": {},
   "outputs": [],
   "source": []
  },
  {
   "cell_type": "code",
   "execution_count": null,
   "id": "d44b4780",
   "metadata": {},
   "outputs": [],
   "source": []
  },
  {
   "cell_type": "code",
   "execution_count": null,
   "id": "d97b4f54",
   "metadata": {},
   "outputs": [],
   "source": []
  },
  {
   "cell_type": "code",
   "execution_count": null,
   "id": "2574c423",
   "metadata": {},
   "outputs": [],
   "source": []
  }
 ],
 "metadata": {
  "kernelspec": {
   "display_name": "Python 3 (ipykernel)",
   "language": "python",
   "name": "python3"
  },
  "language_info": {
   "codemirror_mode": {
    "name": "ipython",
    "version": 3
   },
   "file_extension": ".py",
   "mimetype": "text/x-python",
   "name": "python",
   "nbconvert_exporter": "python",
   "pygments_lexer": "ipython3",
   "version": "3.8.10"
  }
 },
 "nbformat": 4,
 "nbformat_minor": 5
}
