{
 "cells": [
  {
   "cell_type": "markdown",
   "id": "9a40cc1f",
   "metadata": {},
   "source": [
    "1. In what modes should the PdfFileReader() and PdfFileWriter() File objects will be opened?"
   ]
  },
  {
   "cell_type": "markdown",
   "id": "2a65a61a",
   "metadata": {},
   "source": [
    "PdfFileReader() needs to be opened in read-binary mode by passing 'rb' as the second argument to open(). Likewise, the File object passed to PyPDF2. PdfFileWriter() needs to be opened in write-binary mode with 'wb'."
   ]
  },
  {
   "cell_type": "markdown",
   "id": "f80232a2",
   "metadata": {},
   "source": [
    "2. From a PdfFileReader object, how do you get a Page object for page 5?\n"
   ]
  },
  {
   "cell_type": "markdown",
   "id": "538503af",
   "metadata": {},
   "source": [
    "o extract text from a page, you need to get a Page object, which represents a single page of a PDF, from a PdfFileReader object. You can get a Page object by calling the getPage() method ➋ on a PdfFileReader object and passing it the page number of the page you're interested in—in our case, 0."
   ]
  },
  {
   "cell_type": "markdown",
   "id": "2005ee23",
   "metadata": {},
   "source": [
    "3. What PdfFileReader variable stores the number of pages in the PDF document?\n"
   ]
  },
  {
   "cell_type": "markdown",
   "id": "c218ce32",
   "metadata": {},
   "source": [
    "getNumPages() will return the number of pages"
   ]
  },
  {
   "cell_type": "markdown",
   "id": "5d8df2f5",
   "metadata": {},
   "source": [
    "4. If a PdfFileReader object’s PDF is encrypted with the password swordfish, what must you do before you can obtain Page objects from it?\n"
   ]
  },
  {
   "cell_type": "markdown",
   "id": "2c904cba",
   "metadata": {},
   "source": [
    "Encryption made can be revoked by decryptionmethod"
   ]
  },
  {
   "cell_type": "markdown",
   "id": "0a0b0366",
   "metadata": {},
   "source": [
    "5. What methods do you use to rotate a page?\n"
   ]
  },
  {
   "cell_type": "markdown",
   "id": "4a4535b9",
   "metadata": {},
   "source": [
    "We can rotate a page clockwise or counter-clockwise by an angle. The PdfFileWriter is used to write the PDF file from the source PDF. We are using rotateClockwise(90) method to rotate the page clockwise by 90-degrees. We are adding the rotated pages to the PdfFileWriter instance."
   ]
  },
  {
   "cell_type": "markdown",
   "id": "54531deb",
   "metadata": {},
   "source": [
    "6. What is the difference between a Run object and a Paragraph object?\n"
   ]
  },
  {
   "cell_type": "markdown",
   "id": "6dc57920",
   "metadata": {},
   "source": [
    "lass docx.text.run.Run[source]\n",
    "Proxy object wrapping <w:r> element. Several of the properties on Run take a tri-state value, True, False, or None. True and False correspond to on and off respectively. None indicates the property is not specified directly on the run and its effective value is taken from the style hierarchy.\n",
    "\n",
    "ParagraphFormat objects\n",
    "class docx.text.parfmt.ParagraphFormat[source]\n",
    "Provides access to paragraph formatting such as justification, indentation, line spacing, space before and after, and widow/orphan control."
   ]
  },
  {
   "cell_type": "markdown",
   "id": "1592fe44",
   "metadata": {},
   "source": [
    "7. How do you obtain a list of Paragraph objects for a Document object that’s stored in a variable named doc?\n"
   ]
  },
  {
   "cell_type": "markdown",
   "id": "e4171373",
   "metadata": {},
   "source": [
    "Document constructor¶\n",
    "docx.Document(docx=None)[source]\n",
    "Return a Document object loaded from docx, where docx can be either a path to a .docx file (a string) or a file-like object. If docx is missing or None, the built-in default document “template” is loaded."
   ]
  },
  {
   "cell_type": "markdown",
   "id": "a3fcffda",
   "metadata": {},
   "source": [
    "8. What type of object has bold, underline, italic, strike, and outline variables?\n"
   ]
  },
  {
   "cell_type": "markdown",
   "id": "eba25625",
   "metadata": {},
   "source": []
  },
  {
   "cell_type": "markdown",
   "id": "0e68f176",
   "metadata": {},
   "source": [
    "9. What is the difference between False, True, and None for the bold variable?\n"
   ]
  },
  {
   "cell_type": "markdown",
   "id": "a4dd5873",
   "metadata": {},
   "source": [
    "True / False are used where the field takes a boolean value. None is used where the field takes an Optional"
   ]
  },
  {
   "cell_type": "markdown",
   "id": "1bd88f56",
   "metadata": {},
   "source": [
    "10. How do you create a Document object for a new Word document?\n"
   ]
  },
  {
   "cell_type": "code",
   "execution_count": null,
   "id": "97aa43a1",
   "metadata": {},
   "outputs": [],
   "source": [
    "import aspose.words as aw\n",
    "\n",
    "# create document object\n",
    "doc = aw.Document()\n",
    "\n",
    "# create a document builder object\n",
    "builder = aw.DocumentBuilder(doc)\n",
    "\n",
    "# add text to the document\n",
    "builder.write(\"Hello world!\")\n",
    "\n",
    "# save document\n",
    "doc.save(\"out.docx\")"
   ]
  },
  {
   "cell_type": "markdown",
   "id": "be1bce16",
   "metadata": {},
   "source": [
    "11. How do you add a paragraph with the text 'Hello, there!' to a Document object stored in a variable named doc?"
   ]
  },
  {
   "cell_type": "code",
   "execution_count": null,
   "id": "c26dd54a",
   "metadata": {},
   "outputs": [],
   "source": [
    "import docx\n",
    "doc = docx.Document()\n",
    "doc.add_paragraph('Hello, world!')\n",
    "doc.save('helloworld.docx')"
   ]
  },
  {
   "cell_type": "markdown",
   "id": "6019d45d",
   "metadata": {},
   "source": [
    "12. What integers represent the levels of headings available in Word documents?"
   ]
  },
  {
   "cell_type": "markdown",
   "id": "522da5ac",
   "metadata": {},
   "source": [
    "doc = docx.Document()\n",
    "doc.add_heading('Header 0', 0)\n",
    "\n",
    "doc.add_heading('Header 1', 1)\n",
    "\n",
    "doc.add_heading('Header 2', 2)\n",
    "\n",
    "doc.add_heading('Header 3', 3)\n",
    "\n",
    "doc.add_heading('Header 4', 4)\n",
    "\n",
    "doc.save('headings.docx')"
   ]
  }
 ],
 "metadata": {
  "kernelspec": {
   "display_name": "Python 3 (ipykernel)",
   "language": "python",
   "name": "python3"
  },
  "language_info": {
   "codemirror_mode": {
    "name": "ipython",
    "version": 3
   },
   "file_extension": ".py",
   "mimetype": "text/x-python",
   "name": "python",
   "nbconvert_exporter": "python",
   "pygments_lexer": "ipython3",
   "version": "3.8.10"
  }
 },
 "nbformat": 4,
 "nbformat_minor": 5
}
