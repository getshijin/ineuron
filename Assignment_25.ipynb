{
 "cells": [
  {
   "cell_type": "code",
   "execution_count": null,
   "id": "07d87a00",
   "metadata": {},
   "outputs": [],
   "source": [
    "1) . What is the difference between enclosing a list comprehension in square brackets and parentheses?"
   ]
  },
  {
   "cell_type": "code",
   "execution_count": 10,
   "id": "6eeb36ba",
   "metadata": {},
   "outputs": [
    {
     "name": "stdout",
     "output_type": "stream",
     "text": [
      "[4, 6, 8, 10, 12, 14, 16, 18]\n",
      "<generator object <genexpr> at 0x7fc4045e7ac0>\n",
      "4\n",
      "6\n",
      "8\n",
      "10\n",
      "12\n",
      "14\n",
      "16\n",
      "18\n"
     ]
    }
   ],
   "source": [
    "l= [2,3 ,4 ,5, 6,7 ,8 , 9]\n",
    "l1 = [i*2 for i in l ]\n",
    "print(l1)\n",
    "t1=(i*2 for i in l )\n",
    "print(t1)\n",
    "\n",
    "\n",
    "# when an list comprehension is placed inside an parenthisis it become an generator"
   ]
  },
  {
   "cell_type": "code",
   "execution_count": null,
   "id": "f4c017de",
   "metadata": {},
   "outputs": [],
   "source": [
    "\n",
    "2) What is the relationship between generators and iterators?"
   ]
  },
  {
   "cell_type": "markdown",
   "id": "ef8589ed",
   "metadata": {},
   "source": [
    "#iterator\n",
    "An iterator is an object which contains a countable number of values and it is used to iterate over iterable objects like list, tuples, sets, etc. Iterators are implemented using a class and a local variable for iterating is not required here, It follows lazy evaluation where the evaluation of the expression will be on hold and stored in the memory until the item is called specifically which helps us to avoid repeated evaluation. As lazy evaluation is implemented, it requires only 1 memory location to process the value and when we are using a large dataset then, wastage of RAM space will be reduced the need to load the entire dataset at the same time will not be there.\n",
    "\n",
    "Using an iterator-\n",
    "\n",
    "iter() keyword is used to create an iterator containing an iterable object.\n",
    "next() keyword is used to call the next element in the iterable object.\n",
    "After the iterable object is completed, to use them again reassign them to the same object.\n",
    "#generator\n",
    "It is another way of creating iterators in a simple way where it uses the keyword “yield” instead of returning it in a defined function. Generators are implemented using a function. Just as iterators, generators also follow lazy evaluation. Here, the yield function returns the data without affecting or exiting the function. It will return a sequence of data in an iterable format where we need to iterate over the sequence to use the data as they won’t store the entire sequence in the memory."
   ]
  },
  {
   "cell_type": "code",
   "execution_count": null,
   "id": "34ec182a",
   "metadata": {},
   "outputs": [],
   "source": [
    "\n",
    "3) What are the signs that a function is a generator function?"
   ]
  },
  {
   "cell_type": "code",
   "execution_count": null,
   "id": "83c0e128",
   "metadata": {},
   "outputs": [],
   "source": [
    "If a function contains at least one yield statement (it may contain other yield or return statements), it \n",
    "becomes a generator function. Both yield and return will return some value from a function."
   ]
  },
  {
   "cell_type": "code",
   "execution_count": null,
   "id": "fe901a97",
   "metadata": {},
   "outputs": [],
   "source": [
    "\n",
    "4) What is the purpose of a yield statement?\n"
   ]
  },
  {
   "cell_type": "code",
   "execution_count": null,
   "id": "eb1324b2",
   "metadata": {},
   "outputs": [],
   "source": [
    "In its simplest form, a yield statement looks much like a return statement, except that instead of stopping \n",
    "execution of the function and returning, yield instead provides a value to the code looping over the generator\n",
    "and pauses execution of the generator function."
   ]
  },
  {
   "cell_type": "code",
   "execution_count": null,
   "id": "13a60fe2",
   "metadata": {},
   "outputs": [],
   "source": [
    "5) What is the relationship between map calls and list comprehensions? Make a comparison and contrast between \n",
    "the two."
   ]
  },
  {
   "cell_type": "code",
   "execution_count": null,
   "id": "e78796b8",
   "metadata": {},
   "outputs": [],
   "source": [
    "#Map\n",
    "Suppose we have a function and we want to compute this function for different values in a single line of code .\n",
    "This is where map() function plays its role ! map() function returns a map object(which is an iterator) of the\n",
    "results after applying the given function to each item of a given iterable (list, tuple etc.)\n",
    "#list comprehension\n",
    "List Comprehension is a substitute for the lambda function, map(), filter() and reduce(). It follows the form \n",
    "of the mathematical set-builder notation. It provide a concise way to create lists."
   ]
  },
  {
   "cell_type": "code",
   "execution_count": null,
   "id": "a41d3fbe",
   "metadata": {},
   "outputs": [],
   "source": []
  },
  {
   "cell_type": "code",
   "execution_count": null,
   "id": "b45286cb",
   "metadata": {},
   "outputs": [],
   "source": []
  },
  {
   "cell_type": "code",
   "execution_count": null,
   "id": "413635dd",
   "metadata": {},
   "outputs": [],
   "source": []
  },
  {
   "cell_type": "code",
   "execution_count": null,
   "id": "9b3528bc",
   "metadata": {},
   "outputs": [],
   "source": []
  },
  {
   "cell_type": "code",
   "execution_count": null,
   "id": "3634ad61",
   "metadata": {},
   "outputs": [],
   "source": []
  },
  {
   "cell_type": "code",
   "execution_count": null,
   "id": "8b371333",
   "metadata": {},
   "outputs": [],
   "source": []
  }
 ],
 "metadata": {
  "kernelspec": {
   "display_name": "Python 3 (ipykernel)",
   "language": "python",
   "name": "python3"
  },
  "language_info": {
   "codemirror_mode": {
    "name": "ipython",
    "version": 3
   },
   "file_extension": ".py",
   "mimetype": "text/x-python",
   "name": "python",
   "nbconvert_exporter": "python",
   "pygments_lexer": "ipython3",
   "version": "3.8.10"
  }
 },
 "nbformat": 4,
 "nbformat_minor": 5
}
