{
 "cells": [
  {
   "cell_type": "markdown",
   "id": "0d11810c",
   "metadata": {},
   "source": [
    "1.How many seconds are in an hour? Use the interactive interpreter as a calculator and multiply the number of seconds in a minute (60) by the number of minutes in an hour (also 60).\n",
    "sol. 60 "
   ]
  },
  {
   "cell_type": "code",
   "execution_count": 11,
   "id": "08409fdb",
   "metadata": {},
   "outputs": [
    {
     "name": "stdout",
     "output_type": "stream",
     "text": [
      "(3600, 60)\n"
     ]
    }
   ],
   "source": [
    "def cal_time(n):\n",
    "    return n*60*60, n*60\n",
    "\n",
    "print(cal_time(1))\n",
    "    "
   ]
  },
  {
   "cell_type": "markdown",
   "id": "021d3d46",
   "metadata": {},
   "source": [
    "2. Assign the result from the previous task (seconds in an hour) to a variable called seconds_per_hour.\n"
   ]
  },
  {
   "cell_type": "code",
   "execution_count": 12,
   "id": "c9af22c9",
   "metadata": {},
   "outputs": [
    {
     "name": "stdout",
     "output_type": "stream",
     "text": [
      "3600\n",
      "60\n"
     ]
    }
   ],
   "source": [
    "seconds_per_hour,min_per_hour= cal_time(1)\n",
    "print(seconds_per_hour)\n",
    "print(min_per_hour)"
   ]
  },
  {
   "cell_type": "markdown",
   "id": "e8256a7c",
   "metadata": {},
   "source": [
    "3. How many seconds do you think there are in a day? Make use of the variables seconds per hour and minutes per hour.\n"
   ]
  },
  {
   "cell_type": "code",
   "execution_count": 8,
   "id": "ba579da3",
   "metadata": {},
   "outputs": [
    {
     "name": "stdout",
     "output_type": "stream",
     "text": [
      "86400\n",
      "1440\n"
     ]
    }
   ],
   "source": [
    "seconds_per_hour,min_per_hour= cal_time(24)\n",
    "print(seconds_per_hour)\n",
    "print(min_per_hour)"
   ]
  },
  {
   "cell_type": "markdown",
   "id": "525df814",
   "metadata": {},
   "source": [
    "4. Calculate seconds per day again, but this time save the result in a variable called seconds_per_day\n"
   ]
  },
  {
   "cell_type": "code",
   "execution_count": 13,
   "id": "56d577ce",
   "metadata": {},
   "outputs": [],
   "source": [
    "seconds_per_day,min_per_hour= cal_time(24)"
   ]
  },
  {
   "cell_type": "markdown",
   "id": "df80750f",
   "metadata": {},
   "source": [
    "5. Divide seconds_per_day by seconds_per_hour. Use floating-point (/) division.\n"
   ]
  },
  {
   "cell_type": "code",
   "execution_count": 14,
   "id": "848eee06",
   "metadata": {},
   "outputs": [
    {
     "data": {
      "text/plain": [
       "24.0"
      ]
     },
     "execution_count": 14,
     "metadata": {},
     "output_type": "execute_result"
    }
   ],
   "source": [
    "seconds_per_day/seconds_per_hour"
   ]
  },
  {
   "cell_type": "markdown",
   "id": "6d32d20a",
   "metadata": {},
   "source": [
    "6. Divide seconds_per_day by seconds_per_hour, using integer (//) division. Did this number agree with the floating-point value from the previous question, aside from the final .0?\n"
   ]
  },
  {
   "cell_type": "code",
   "execution_count": 15,
   "id": "294b242e",
   "metadata": {},
   "outputs": [
    {
     "data": {
      "text/plain": [
       "24"
      ]
     },
     "execution_count": 15,
     "metadata": {},
     "output_type": "execute_result"
    }
   ],
   "source": [
    "seconds_per_day//seconds_per_hour"
   ]
  },
  {
   "cell_type": "markdown",
   "id": "5804264d",
   "metadata": {},
   "source": [
    "7. Write a generator, genPrimes, that returns the sequence of prime numbers on successive calls to its next() method: 2, 3, 5, 7, 11, ..."
   ]
  },
  {
   "cell_type": "code",
   "execution_count": 50,
   "id": "7447ac84",
   "metadata": {},
   "outputs": [],
   "source": [
    "def genPrime(n):\n",
    "    for i in range(2,n):\n",
    "        #flag =0\n",
    "        for j in range (2,i):\n",
    "            if i%j ==0 :\n",
    "                #flag= 1\n",
    "                break\n",
    "        else :\n",
    "         #if flag ==0:\n",
    "            yield i"
   ]
  },
  {
   "cell_type": "code",
   "execution_count": 51,
   "id": "f3fb6add",
   "metadata": {},
   "outputs": [],
   "source": [
    "a= genPrime(50)"
   ]
  },
  {
   "cell_type": "code",
   "execution_count": 52,
   "id": "ea88e54a",
   "metadata": {},
   "outputs": [
    {
     "name": "stdout",
     "output_type": "stream",
     "text": [
      "2\n",
      "3\n",
      "5\n",
      "7\n",
      "11\n",
      "13\n",
      "17\n",
      "19\n",
      "23\n",
      "29\n",
      "31\n",
      "37\n",
      "41\n",
      "43\n",
      "47\n"
     ]
    }
   ],
   "source": [
    "for i in a:\n",
    "    print(i)"
   ]
  },
  {
   "cell_type": "markdown",
   "id": "c0b7ed85",
   "metadata": {},
   "source": []
  }
 ],
 "metadata": {
  "kernelspec": {
   "display_name": "Python 3 (ipykernel)",
   "language": "python",
   "name": "python3"
  },
  "language_info": {
   "codemirror_mode": {
    "name": "ipython",
    "version": 3
   },
   "file_extension": ".py",
   "mimetype": "text/x-python",
   "name": "python",
   "nbconvert_exporter": "python",
   "pygments_lexer": "ipython3",
   "version": "3.8.10"
  }
 },
 "nbformat": 4,
 "nbformat_minor": 5
}
