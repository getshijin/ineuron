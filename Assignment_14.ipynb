{
 "cells": [
  {
   "cell_type": "markdown",
   "id": "8c94266f",
   "metadata": {},
   "source": [
    "1. What does RGBA stand for?"
   ]
  },
  {
   "cell_type": "markdown",
   "id": "3558b59f",
   "metadata": {},
   "source": [
    "The RGB color model is extended in this specification to include “alpha” to allow specification of the opacity of a color."
   ]
  },
  {
   "cell_type": "markdown",
   "id": "9a111ee3",
   "metadata": {},
   "source": [
    "2. From the Pillow module, how do you get the RGBA value of any images?"
   ]
  },
  {
   "cell_type": "markdown",
   "id": "da0a4311",
   "metadata": {},
   "source": [
    "3. What is a box tuple, and how does it work?"
   ]
  },
  {
   "cell_type": "code",
   "execution_count": null,
   "id": "fb01e8c7",
   "metadata": {},
   "outputs": [],
   "source": [
    "from PIL import ImageColor\n",
    "\n",
    "print(ImageColor.getcolor('red','RGBA'))\n",
    "print(ImageColor.getcolor('blue','RGBA'))\n",
    "print(ImageColor.getcolor('yellow','RGBA'))\n",
    "print(ImageColor.getcolor('green','RGBA'))\n",
    "print(ImageColor.getcolor('black','RGBA'))"
   ]
  },
  {
   "cell_type": "markdown",
   "id": "c8a892c2",
   "metadata": {},
   "source": [
    "4. Use your image and load in notebook then, How can you find out the width and height of an Image object?"
   ]
  },
  {
   "cell_type": "code",
   "execution_count": 19,
   "id": "d1d92c1d",
   "metadata": {},
   "outputs": [
    {
     "name": "stdout",
     "output_type": "stream",
     "text": [
      "1920\n",
      "1080\n"
     ]
    }
   ],
   "source": [
    "from PIL import Image \n",
    "myimage = Image.open('test.png')\n",
    "width,height= myimage.size\n",
    "print(width)\n",
    "print(height)\n",
    "myimage.show()"
   ]
  },
  {
   "cell_type": "markdown",
   "id": "5e92271a",
   "metadata": {},
   "source": [
    "5. What method would you call to get Image object for a 100×100 image, excluding the lower-left quarter of it?"
   ]
  },
  {
   "cell_type": "code",
   "execution_count": 12,
   "id": "764f40d8",
   "metadata": {},
   "outputs": [
    {
     "name": "stdout",
     "output_type": "stream",
     "text": [
      "(1920, 1080)\n",
      "(400, 400)\n"
     ]
    }
   ],
   "source": [
    "newimage = myimage.resize((400,400))\n",
    "newimage.save('test_400.png')\n",
    "print(myimage.size)\n",
    "print(newimage.size)"
   ]
  },
  {
   "cell_type": "markdown",
   "id": "ce868d41",
   "metadata": {},
   "source": [
    "6. After making changes to an Image object, how could you save it as an image file?"
   ]
  },
  {
   "cell_type": "code",
   "execution_count": 18,
   "id": "b3df719c",
   "metadata": {},
   "outputs": [
    {
     "name": "stdout",
     "output_type": "stream",
     "text": [
      "(400, 225)\n"
     ]
    }
   ],
   "source": [
    "myimage.thumbnail((400,400))\n",
    "myimage.save('test_thumb.png')\n",
    "print(myimage.size)"
   ]
  },
  {
   "cell_type": "code",
   "execution_count": 25,
   "id": "ff1d1928",
   "metadata": {},
   "outputs": [],
   "source": [
    "box =(600,600,800,800)\n",
    "croppedimage = myimage.crop(box)\n",
    "croppedimage.save('test_crop.png')"
   ]
  },
  {
   "cell_type": "code",
   "execution_count": 26,
   "id": "004026cb",
   "metadata": {},
   "outputs": [],
   "source": [
    "myimage = Image.open('test.png')\n",
    "\n",
    "image1= Image.open('test_crop.png')\n",
    "image_copy = myimage.copy()\n",
    "position =((myimage.width-image1.width),(myimage.height-image1.height))\n",
    "image_copy.paste(image1,position)\n",
    "image_copy.save('test_watermark.png')\n"
   ]
  },
  {
   "cell_type": "markdown",
   "id": "4d24c7d4",
   "metadata": {},
   "source": [
    "7. What module contains Pillow’s shape-drawing code?"
   ]
  },
  {
   "cell_type": "markdown",
   "id": "e81d0e17",
   "metadata": {},
   "source": []
  },
  {
   "cell_type": "markdown",
   "id": "41a0b6b6",
   "metadata": {},
   "source": [
    "8. Image objects do not have drawing methods. What kind of object does? How do you get this kind of object?"
   ]
  },
  {
   "cell_type": "code",
   "execution_count": 31,
   "id": "73515991",
   "metadata": {},
   "outputs": [],
   "source": [
    "from PIL import Image, ImageDraw\n",
    "blank_image = Image.new('RGBA',(400,300),'black').convert('RGBA')\n",
    "img_draw = ImageDraw.Draw(blank_image)\n",
    "img_draw.rectangle((70,50,270,200),outline='red',fill='green')\n",
    "img_draw.text((70,250),'Using Draw module ',fill ='blue')\n",
    "blank_image.save('dran.png')"
   ]
  },
  {
   "cell_type": "markdown",
   "id": "2af32351",
   "metadata": {},
   "source": []
  },
  {
   "cell_type": "markdown",
   "id": "b4cf9806",
   "metadata": {},
   "source": []
  }
 ],
 "metadata": {
  "kernelspec": {
   "display_name": "Python 3 (ipykernel)",
   "language": "python",
   "name": "python3"
  },
  "language_info": {
   "codemirror_mode": {
    "name": "ipython",
    "version": 3
   },
   "file_extension": ".py",
   "mimetype": "text/x-python",
   "name": "python",
   "nbconvert_exporter": "python",
   "pygments_lexer": "ipython3",
   "version": "3.8.10"
  }
 },
 "nbformat": 4,
 "nbformat_minor": 5
}
