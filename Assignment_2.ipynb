{
 "cells": [
  {
   "cell_type": "markdown",
   "id": "23a501ac",
   "metadata": {},
   "source": [
    "1.What are the two values of the Boolean data type? How do you write them?"
   ]
  },
  {
   "cell_type": "markdown",
   "id": "1d16a06a",
   "metadata": {},
   "source": [
    "It has two possible values: true and false . Bool is not interchangeable with Int and must be converted explicitly if needed. When a Boolean value of an expression is needed (for example in an if statement), the Bool method is called.(bool() is used to reperesent Boolean data type)"
   ]
  },
  {
   "cell_type": "markdown",
   "id": "261cbaf4",
   "metadata": {},
   "source": [
    "2. What are the three different types of Boolean operators?\n"
   ]
  },
  {
   "cell_type": "markdown",
   "id": "bf5fbc4d",
   "metadata": {},
   "source": [
    "There are three basic Boolean search commands: AND, OR and NOT.\n",
    "AND searches find all of the search terms. For example, searching on dengue AND malaria AND zika returns only results that contain all three search terms. ...\n",
    "OR searches find one term or the other. ...\n",
    "NOT eliminates items that contain the specified term."
   ]
  },
  {
   "cell_type": "markdown",
   "id": "280a7fd1",
   "metadata": {},
   "source": [
    "3. Make a list of each Boolean operator's truth tables (i.e. every possible combination of Boolean values for the operator and what it evaluate ).\n"
   ]
  },
  {
   "cell_type": "markdown",
   "id": "91d8fece",
   "metadata": {},
   "source": [
    "and = [1,0,0,0]\n",
    "OR = [1,1,1,0]\n",
    "NOT = [1, 0]"
   ]
  },
  {
   "cell_type": "markdown",
   "id": "0c1f4e08",
   "metadata": {},
   "source": [
    "4. What are the values of the following expressions?\n",
    "(5 > 4) and (3 == 5)\n",
    "not (5 > 4)\n",
    "(5 > 4) or (3 == 5)\n",
    "not ((5 > 4) or (3 == 5))\n",
    "(True and True) and (True == False)\n",
    "(not False) or (not True)"
   ]
  },
  {
   "cell_type": "markdown",
   "id": "42c58e08",
   "metadata": {},
   "source": [
    ">>> (5 > 4) and (3 == 5)\n",
    "False\n",
    ">>> not (5 > 4)\n",
    "False\n",
    ">>> (5 > 4) or (3 == 5)\n",
    "True\n",
    ">>> not ((5 > 4) or (3 == 5))\n",
    "False\n",
    ">>> (True and True) and (True == False)\n",
    "False\n",
    ">>> (not False) or (not True)\n",
    "True"
   ]
  },
  {
   "cell_type": "markdown",
   "id": "c69b0bae",
   "metadata": {},
   "source": [
    "5. What are the six comparison operators?\n"
   ]
  },
  {
   "cell_type": "markdown",
   "id": "0f9aaff8",
   "metadata": {},
   "source": [
    "There are six main comparison operators: equal to, not equal to, greater than, greater than or equal to, less than, and less than or equal to"
   ]
  },
  {
   "cell_type": "markdown",
   "id": "09acc876",
   "metadata": {},
   "source": [
    "6. How do you tell the difference between the equal to and assignment operators?Describe a condition and when you would use one."
   ]
  },
  {
   "cell_type": "markdown",
   "id": "da189995",
   "metadata": {},
   "source": [
    "The “=” is an assignment operator is used to assign the value on the right to the variable on the left. The '==' operator checks whether the two given operands are equal or not. If so, it returns true. Otherwise it returns false."
   ]
  },
  {
   "cell_type": "markdown",
   "id": "b6d4b8fe",
   "metadata": {},
   "source": [
    "7. Identify the three blocks in this code:\n",
    "spam = 0\n",
    "if spam == 10:\n",
    "print('eggs')\n",
    "if spam > 5:\n",
    "print('bacon')\n",
    "else:\n",
    "print('ham')\n",
    "print('spam')\n",
    "print('spam')\n"
   ]
  },
  {
   "cell_type": "markdown",
   "id": "db715cca",
   "metadata": {},
   "source": [
    "spam = 0\n",
    "if spam == 10:\n",
    "    print('eggs')\n",
    "elif spam > 5:\n",
    "    print('bacon')\n",
    "else:\n",
    "    print('ham')\n",
    "    print('spam')\n",
    "    print('spam')"
   ]
  },
  {
   "cell_type": "markdown",
   "id": "e5aaf034",
   "metadata": {},
   "source": [
    "8. Write code that prints Hello if 1 is stored in spam, prints Howdy if 2 is stored in spam, and prints Greetings! if anything else is stored in spam.\n"
   ]
  },
  {
   "cell_type": "code",
   "execution_count": 6,
   "id": "15e0247e",
   "metadata": {},
   "outputs": [
    {
     "name": "stdout",
     "output_type": "stream",
     "text": [
      "Greetings!\n"
     ]
    }
   ],
   "source": [
    "spam=0\n",
    "if spam ==1:\n",
    "    print('Hello')\n",
    "elif spam == 2:\n",
    "    print('Howdy')\n",
    "else:\n",
    "    print('Greetings!')"
   ]
  },
  {
   "cell_type": "markdown",
   "id": "d8678d21",
   "metadata": {},
   "source": [
    "9.If your programme is stuck in an endless loop, what keys you’ll press?\n"
   ]
  },
  {
   "cell_type": "markdown",
   "id": "c759f892",
   "metadata": {},
   "source": [
    "Ctl+ c or Ctl + X or Ctrl + delete or ctrl + Z"
   ]
  },
  {
   "cell_type": "markdown",
   "id": "ec0d6644",
   "metadata": {},
   "source": [
    "10. How can you tell the difference between break and continue?\n"
   ]
  },
  {
   "cell_type": "markdown",
   "id": "d2096538",
   "metadata": {},
   "source": [
    "The Python break statement stops the loop in which the statement is placed. A Python continue statement skips a single iteration in a loop"
   ]
  },
  {
   "cell_type": "markdown",
   "id": "2d339ce8",
   "metadata": {},
   "source": [
    "11. In a for loop, what is the difference between range(10), range(0, 10), and range(0, 10, 1)?\n"
   ]
  },
  {
   "cell_type": "markdown",
   "id": "a5145e97",
   "metadata": {},
   "source": [
    "there is no difference in the above 3 ways all the three data out put are the same."
   ]
  },
  {
   "cell_type": "markdown",
   "id": "d52f97b2",
   "metadata": {},
   "source": [
    "12. Write a short program that prints the numbers 1 to 10 using a for loop. Then write an equivalent program that prints the numbers 1 to 10 using a while loop.\n"
   ]
  },
  {
   "cell_type": "code",
   "execution_count": 8,
   "id": "a7296f96",
   "metadata": {},
   "outputs": [
    {
     "name": "stdout",
     "output_type": "stream",
     "text": [
      "1\n",
      "2\n",
      "3\n",
      "4\n",
      "5\n",
      "6\n",
      "7\n",
      "8\n",
      "9\n",
      "10\n",
      "1\n",
      "2\n",
      "3\n",
      "4\n",
      "5\n",
      "6\n",
      "7\n",
      "8\n",
      "9\n",
      "10\n"
     ]
    }
   ],
   "source": [
    "for i in range(1,11):\n",
    "    print(i)\n",
    "i=1\n",
    "while (i<11):\n",
    "    print(i)\n",
    "    i+= 1"
   ]
  },
  {
   "cell_type": "markdown",
   "id": "0e5ed4c5",
   "metadata": {},
   "source": [
    "13. If you had a function named bacon() inside a module named spam, how would you call it after importing spam?"
   ]
  },
  {
   "cell_type": "code",
   "execution_count": null,
   "id": "7446d84b",
   "metadata": {},
   "outputs": [],
   "source": [
    "from spam import bacon\n"
   ]
  }
 ],
 "metadata": {
  "kernelspec": {
   "display_name": "Python 3 (ipykernel)",
   "language": "python",
   "name": "python3"
  },
  "language_info": {
   "codemirror_mode": {
    "name": "ipython",
    "version": 3
   },
   "file_extension": ".py",
   "mimetype": "text/x-python",
   "name": "python",
   "nbconvert_exporter": "python",
   "pygments_lexer": "ipython3",
   "version": "3.8.10"
  }
 },
 "nbformat": 4,
 "nbformat_minor": 5
}
