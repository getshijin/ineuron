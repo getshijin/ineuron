{
 "cells": [
  {
   "cell_type": "code",
   "execution_count": null,
   "id": "6ede71b9",
   "metadata": {},
   "outputs": [],
   "source": [
    "1. Add the current date to the text file today.txt as a string."
   ]
  },
  {
   "cell_type": "code",
   "execution_count": 22,
   "id": "7e180c35",
   "metadata": {},
   "outputs": [
    {
     "name": "stdout",
     "output_type": "stream",
     "text": [
      "2022_02_19-10:02:23_PM\n"
     ]
    }
   ],
   "source": [
    "from datetime import datetime\n",
    "\n",
    "date = datetime.now().strftime('%Y_%m_%d-%I:%m:%S_%p')\n",
    "date\n",
    "with open('today.txt','w') as f:\n",
    "    f.write(date)\n"
   ]
  },
  {
   "cell_type": "code",
   "execution_count": null,
   "id": "090f5177",
   "metadata": {},
   "outputs": [],
   "source": [
    "2. Read the text file today.txt into the string today_string"
   ]
  },
  {
   "cell_type": "code",
   "execution_count": 32,
   "id": "8e804cb2",
   "metadata": {},
   "outputs": [],
   "source": [
    "with open('today.txt','r') as f:\n",
    "    line= f.readlines()\n",
    "    \n",
    "    with open('today_string.txt','w') as new_f:\n",
    "        new_f.write(str(line[0]))"
   ]
  },
  {
   "cell_type": "code",
   "execution_count": null,
   "id": "9eb56bec",
   "metadata": {},
   "outputs": [],
   "source": [
    "3. Parse the date from today_string"
   ]
  },
  {
   "cell_type": "code",
   "execution_count": 36,
   "id": "5a275e8e",
   "metadata": {},
   "outputs": [
    {
     "name": "stdout",
     "output_type": "stream",
     "text": [
      "2022-02-02 00:00:00\n"
     ]
    }
   ],
   "source": [
    "from dateutil.parser import parse\n",
    "with open('today_string.txt','r') as f:\n",
    "    a=f.readlines()\n",
    "    for i in a:\n",
    "        dt =parse(i[0])\n",
    "print(dt)"
   ]
  },
  {
   "cell_type": "code",
   "execution_count": 43,
   "id": "b7eb3542",
   "metadata": {},
   "outputs": [
    {
     "name": "stdout",
     "output_type": "stream",
     "text": [
      "/home/shijin/Downloads/FULL_stack_DS/Assignments\r\n"
     ]
    }
   ],
   "source": [
    "!pwd"
   ]
  },
  {
   "cell_type": "code",
   "execution_count": null,
   "id": "fc817585",
   "metadata": {},
   "outputs": [],
   "source": [
    "5. Create a list of all of the files in your parent directory (minimum five files should be available)."
   ]
  },
  {
   "cell_type": "code",
   "execution_count": 9,
   "id": "e9a66a35",
   "metadata": {},
   "outputs": [
    {
     "name": "stdout",
     "output_type": "stream",
     "text": [
      "['today.txt', 'test2.txt', 'text1.txt', 'today_string.txt']\n"
     ]
    }
   ],
   "source": [
    "import os\n",
    "listt=[]\n",
    "mypath='/home/shijin/Downloads/FULL_stack_DS/Assignments'\n",
    "for i in os.listdir(mypath):\n",
    "    if i.endswith('.txt'):\n",
    "        listt.append(i)\n",
    "print(listt)"
   ]
  },
  {
   "cell_type": "code",
   "execution_count": null,
   "id": "42079d87",
   "metadata": {},
   "outputs": [],
   "source": [
    "6. Use multiprocessing to create three separate processes. Make each one wait a random number of seconds\n",
    "between one and five, print the current time, and then exit."
   ]
  },
  {
   "cell_type": "code",
   "execution_count": 16,
   "id": "b3b27a71",
   "metadata": {},
   "outputs": [
    {
     "name": "stdout",
     "output_type": "stream",
     "text": [
      "done in 0.0156 Seconds\n",
      "start sleep\n",
      "start sleep\n",
      "done sleep\n",
      "done sleep\n"
     ]
    }
   ],
   "source": [
    "import time\n",
    "import multiprocessing\n",
    "\n",
    "def sleep_man():\n",
    "    print('start sleep')\n",
    "    time.sleep(5)\n",
    "    print('done sleep')\n",
    "tic =time.time()\n",
    "p1= multiprocessing.Process(target = sleep_man)\n",
    "p2= multiprocessing.Process(target = sleep_man)\n",
    "p1.start()\n",
    "p2.start()\n",
    "toc= time.time()\n",
    "\n",
    "print('done in {:.4f} Seconds'.format(toc-tic))"
   ]
  },
  {
   "cell_type": "code",
   "execution_count": 17,
   "id": "7d9f153b",
   "metadata": {},
   "outputs": [
    {
     "name": "stdout",
     "output_type": "stream",
     "text": [
      "Starting to sleep\n",
      "Starting to sleep\n",
      "Done sleeping\n",
      "Done sleeping\n",
      "Done in 1.0722 seconds\n"
     ]
    }
   ],
   "source": [
    "def sleepy_man():\n",
    "    print('Starting to sleep')\n",
    "    time.sleep(1)\n",
    "    print('Done sleeping')\n",
    "\n",
    "tic = time.time()\n",
    "p1 =  multiprocessing.Process(target= sleepy_man)\n",
    "p2 =  multiprocessing.Process(target= sleepy_man)\n",
    "p1.start()\n",
    "p2.start()\n",
    "p1.join()\n",
    "p2.join()\n",
    "toc = time.time()\n",
    "\n",
    "print('Done in {:.4f} seconds'.format(toc-tic))"
   ]
  },
  {
   "cell_type": "code",
   "execution_count": 18,
   "id": "3ead726f",
   "metadata": {},
   "outputs": [],
   "source": [
    "#7. Create a date object of your day of birth."
   ]
  },
  {
   "cell_type": "code",
   "execution_count": 21,
   "id": "52504696",
   "metadata": {},
   "outputs": [
    {
     "name": "stdout",
     "output_type": "stream",
     "text": [
      "1991-06-06\n"
     ]
    }
   ],
   "source": [
    "import datetime\n",
    "x = datetime.date(1991,6,6)\n",
    "print(x)"
   ]
  },
  {
   "cell_type": "code",
   "execution_count": null,
   "id": "40a0e3a4",
   "metadata": {},
   "outputs": [],
   "source": [
    "8. What day of the week was your day of birth?\n"
   ]
  },
  {
   "cell_type": "code",
   "execution_count": 26,
   "id": "4ff636eb",
   "metadata": {},
   "outputs": [
    {
     "name": "stdout",
     "output_type": "stream",
     "text": [
      "3\n",
      "Monday\n"
     ]
    }
   ],
   "source": [
    "import datetime\n",
    "import calendar\n",
    "\n",
    "def findday(date):\n",
    "    born = datetime.datetime.strptime(date,'%d %m %Y').weekday()\n",
    "    print(born)\n",
    "    \n",
    "    return (calendar.day_name[born])\n",
    "date= '06 06 1991'\n",
    "\n",
    "print(findday(date))"
   ]
  },
  {
   "cell_type": "code",
   "execution_count": null,
   "id": "5900f2dc",
   "metadata": {},
   "outputs": [],
   "source": [
    "9. When will you be (or when were you) 10,000 days old?"
   ]
  },
  {
   "cell_type": "code",
   "execution_count": 33,
   "id": "5928f6b8",
   "metadata": {},
   "outputs": [
    {
     "name": "stdout",
     "output_type": "stream",
     "text": [
      "27.397260273972602\n"
     ]
    }
   ],
   "source": [
    "import datetime\n",
    "import calendar\n",
    "\n",
    "def age(date):\n",
    "    a = 10000/365\n",
    "    print(a)\n",
    "    \n",
    "age (8)"
   ]
  },
  {
   "cell_type": "code",
   "execution_count": null,
   "id": "25b9ae0e",
   "metadata": {},
   "outputs": [],
   "source": []
  },
  {
   "cell_type": "code",
   "execution_count": null,
   "id": "8477a8ec",
   "metadata": {},
   "outputs": [],
   "source": []
  },
  {
   "cell_type": "code",
   "execution_count": null,
   "id": "f6461ee4",
   "metadata": {},
   "outputs": [],
   "source": []
  }
 ],
 "metadata": {
  "kernelspec": {
   "display_name": "Python 3 (ipykernel)",
   "language": "python",
   "name": "python3"
  },
  "language_info": {
   "codemirror_mode": {
    "name": "ipython",
    "version": 3
   },
   "file_extension": ".py",
   "mimetype": "text/x-python",
   "name": "python",
   "nbconvert_exporter": "python",
   "pygments_lexer": "ipython3",
   "version": "3.8.10"
  }
 },
 "nbformat": 4,
 "nbformat_minor": 5
}
