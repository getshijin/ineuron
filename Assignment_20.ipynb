{
 "cells": [
  {
   "cell_type": "markdown",
   "id": "83bc57c4",
   "metadata": {},
   "source": [
    "1. Set the variable test1 to the string 'This is a test of the emergency text system,' and save test1 to a file named test.txt.\n"
   ]
  },
  {
   "cell_type": "code",
   "execution_count": null,
   "id": "719addaf",
   "metadata": {},
   "outputs": [],
   "source": [
    "test1 = 'This is a test of the emergency text system,'"
   ]
  },
  {
   "cell_type": "markdown",
   "id": "8f5c968e",
   "metadata": {},
   "source": [
    "2.. Read the contents of the file test.txt into the variable test2. Is there a difference between test 1 and test 2?"
   ]
  },
  {
   "cell_type": "code",
   "execution_count": null,
   "id": "21430624",
   "metadata": {},
   "outputs": [],
   "source": [
    "try:\n",
    "    with open ('/home/shijin/Downloads/FULL_stack_DS/Assignments/test1.txt','r') as input:\n",
    "\n",
    "        with open('/home/shijin/Downloads/FULL_stack_DS/Assignments/test2.txt', 'w') as output:\n",
    "\n",
    "            for line in input:\n",
    "                output.write(line)\n",
    "except Exception as e:\n",
    "    print(e)"
   ]
  },
  {
   "cell_type": "markdown",
   "id": "22303f44",
   "metadata": {},
   "source": [
    "\n",
    "3. Create a CSV file called books.csv by using these lines:\n",
    "title,author,year\n",
    "The Weirdstone of Brisingamen,Alan Garner,1960\n",
    "Perdido Street Station,China Miéville,2000\n",
    "Thud!,Terry Pratchett,2005\n",
    "The Spellman Files,Lisa Lutz,2007\n",
    "Small Gods,Terry Pratchett,1992\n"
   ]
  },
  {
   "cell_type": "code",
   "execution_count": null,
   "id": "8986cd66",
   "metadata": {},
   "outputs": [],
   "source": [
    "import csv\n",
    "header = ['title','author','year ']\n",
    "\n",
    "data = [\n",
    "    ['The Weirdstone of Brisingamen','Alan Garner',1960],\n",
    "    [' Perdido Street Station','China Miéville',2000 ],\n",
    "    ['Thud!','Terry Pratchett',2005],\n",
    "    [ 'The Spellman Files','Lisa Lutz',2007],\n",
    "    [ 'Small Gods','Terry Pratchett',1992]\n",
    "]\n",
    "with open ('book.csv','w',newline='') as f:\n",
    "    writer =csv.writer(f)\n",
    "    \n",
    "    writer.writerow(header)\n",
    "    \n",
    "    writer.writerows(data)\n"
   ]
  },
  {
   "cell_type": "code",
   "execution_count": null,
   "id": "f2be1777",
   "metadata": {},
   "outputs": [],
   "source": []
  },
  {
   "cell_type": "markdown",
   "id": "beb128ce",
   "metadata": {},
   "source": [
    "4. Use the sqlite3 module to create a SQLite database called books.db, and a table called books with these fields: title (text), author (text), and year (integer).\n"
   ]
  },
  {
   "cell_type": "code",
   "execution_count": 1,
   "id": "8b2189bb",
   "metadata": {},
   "outputs": [
    {
     "data": {
      "text/plain": [
       "[('Sales',),\n",
       " ('book',),\n",
       " ('cardataset',),\n",
       " ('information_schema',),\n",
       " ('mysql',),\n",
       " ('performance_schema',),\n",
       " ('sys',),\n",
       " ('testshijin',)]"
      ]
     },
     "execution_count": 1,
     "metadata": {},
     "output_type": "execute_result"
    }
   ],
   "source": [
    "import mysql.connector as conn\n",
    "mydb = conn.connect(host= 'localhost', user ='root', password= 'password')\n",
    "cursor = mydb.cursor(buffered=True)\n",
    "cursor.execute('show databases')\n",
    "cursor.fetchall()"
   ]
  },
  {
   "cell_type": "code",
   "execution_count": null,
   "id": "b9840abb",
   "metadata": {},
   "outputs": [],
   "source": [
    "cursor.execute('create database book')"
   ]
  },
  {
   "cell_type": "code",
   "execution_count": 2,
   "id": "a53c25a1",
   "metadata": {},
   "outputs": [],
   "source": [
    "\n",
    "cursor.execute('create table book.books (title VARCHAR(100), author VARCHAR(100), year INT(50))')\n",
    "#cursor.execute('alter table book.books alter column title VARCHAR(20)')\n",
    "#cursor.execute('describe book.books')"
   ]
  },
  {
   "cell_type": "markdown",
   "id": "49f1755a",
   "metadata": {},
   "source": [
    "5. Read books.csv and insert its data into the book table.\n"
   ]
  },
  {
   "cell_type": "code",
   "execution_count": 3,
   "id": "0d1adb12",
   "metadata": {},
   "outputs": [
    {
     "name": "stdout",
     "output_type": "stream",
     "text": [
      "insert into book.books values(\"The Weirdstone of Brisingamen\",\"Alan Garner\",1960)\n",
      "insert into book.books values(\" Perdido Street Station\",\"China Miéville\",2000)\n",
      "insert into book.books values(\"Thud!\",\"Terry Pratchett\",2005)\n",
      "insert into book.books values(\"The Spellman Files\",\"Lisa Lutz\",2007)\n",
      "insert into book.books values(\"Small Gods\",\"Terry Pratchett\",1992)\n"
     ]
    }
   ],
   "source": [
    "import csv\n",
    "with open(\"book.csv\",\"r\",newline= '') as f:\n",
    "    content = csv.reader(f)\n",
    "    next(content)\n",
    "    for i in content:\n",
    "        #print(i)\n",
    "        query ='insert into book.books values(\"{}\",\"{}\",{})'.format((i[0]), (i[1]), (i[2]) ) \n",
    "        print(query)\n",
    "        cursor.execute(query)"
   ]
  },
  {
   "cell_type": "markdown",
   "id": "50b7f6b8",
   "metadata": {},
   "source": [
    "6. Select and print the title column from the book table in alphabetical order.\n"
   ]
  },
  {
   "cell_type": "code",
   "execution_count": 4,
   "id": "561df4ab",
   "metadata": {},
   "outputs": [],
   "source": [
    "cursor.execute('select * from book.books')"
   ]
  },
  {
   "cell_type": "code",
   "execution_count": 5,
   "id": "64f482a5",
   "metadata": {},
   "outputs": [
    {
     "data": {
      "text/plain": [
       "[('The Weirdstone of Brisingamen', 'Alan Garner', 1960),\n",
       " (' Perdido Street Station', 'China Miéville', 2000),\n",
       " ('Thud!', 'Terry Pratchett', 2005),\n",
       " ('The Spellman Files', 'Lisa Lutz', 2007),\n",
       " ('Small Gods', 'Terry Pratchett', 1992)]"
      ]
     },
     "execution_count": 5,
     "metadata": {},
     "output_type": "execute_result"
    }
   ],
   "source": [
    "cursor.fetchall()"
   ]
  },
  {
   "cell_type": "code",
   "execution_count": 6,
   "id": "34b6600b",
   "metadata": {},
   "outputs": [
    {
     "data": {
      "text/plain": [
       "[(' Perdido Street Station', 'China Miéville', 2000),\n",
       " ('Small Gods', 'Terry Pratchett', 1992),\n",
       " ('The Spellman Files', 'Lisa Lutz', 2007),\n",
       " ('The Weirdstone of Brisingamen', 'Alan Garner', 1960),\n",
       " ('Thud!', 'Terry Pratchett', 2005)]"
      ]
     },
     "execution_count": 6,
     "metadata": {},
     "output_type": "execute_result"
    }
   ],
   "source": [
    "cursor.execute(\"select * from book.books order by title\")\n",
    "cursor.fetchall()"
   ]
  },
  {
   "cell_type": "markdown",
   "id": "ee936b9b",
   "metadata": {},
   "source": [
    "7. From the book table, select and print all columns in the order of publication.\n"
   ]
  },
  {
   "cell_type": "code",
   "execution_count": 7,
   "id": "8ef5c9cd",
   "metadata": {},
   "outputs": [
    {
     "data": {
      "text/plain": [
       "[('The Weirdstone of Brisingamen', 'Alan Garner', 1960),\n",
       " ('Small Gods', 'Terry Pratchett', 1992),\n",
       " (' Perdido Street Station', 'China Miéville', 2000),\n",
       " ('Thud!', 'Terry Pratchett', 2005),\n",
       " ('The Spellman Files', 'Lisa Lutz', 2007)]"
      ]
     },
     "execution_count": 7,
     "metadata": {},
     "output_type": "execute_result"
    }
   ],
   "source": [
    "cursor.execute('select * from book.books order by year ')\n",
    "cursor.fetchall()"
   ]
  },
  {
   "cell_type": "markdown",
   "id": "079f648e",
   "metadata": {},
   "source": [
    "8. Use the sqlalchemy module to connect to the sqlite3 database books.db that you just made in exercise 6.\n"
   ]
  },
  {
   "cell_type": "code",
   "execution_count": null,
   "id": "277ff9ec",
   "metadata": {},
   "outputs": [],
   "source": []
  },
  {
   "cell_type": "markdown",
   "id": "5283574d",
   "metadata": {},
   "source": [
    "9. Install the Redis server and the Python redis library (pip install redis) on your computer. Create a Redis hash called test with the fields count (1) and name ('Fester Bestertester'). Print all the fields for test.\n"
   ]
  },
  {
   "cell_type": "code",
   "execution_count": 1,
   "id": "6cb3c4d1",
   "metadata": {},
   "outputs": [
    {
     "name": "stdout",
     "output_type": "stream",
     "text": [
      "Collecting redis\n",
      "  Downloading redis-4.1.4-py3-none-any.whl (175 kB)\n",
      "\u001b[K     |████████████████████████████████| 175 kB 337 kB/s eta 0:00:01\n",
      "\u001b[?25hRequirement already satisfied: packaging>=20.4 in /home/shijin/.local/lib/python3.8/site-packages (from redis) (21.0)\n",
      "Collecting deprecated>=1.2.3\n",
      "  Downloading Deprecated-1.2.13-py2.py3-none-any.whl (9.6 kB)\n",
      "Requirement already satisfied: pyparsing>=2.0.2 in /home/shijin/.local/lib/python3.8/site-packages (from packaging>=20.4->redis) (2.4.7)\n",
      "Collecting wrapt<2,>=1.10\n",
      "  Downloading wrapt-1.13.3-cp38-cp38-manylinux_2_5_x86_64.manylinux1_x86_64.manylinux_2_12_x86_64.manylinux2010_x86_64.whl (84 kB)\n",
      "\u001b[K     |████████████████████████████████| 84 kB 168 kB/s eta 0:00:01\n",
      "\u001b[?25hInstalling collected packages: wrapt, deprecated, redis\n",
      "Successfully installed deprecated-1.2.13 redis-4.1.4 wrapt-1.13.3\n"
     ]
    }
   ],
   "source": [
    "!pip install redis"
   ]
  },
  {
   "cell_type": "markdown",
   "id": "b9d43700",
   "metadata": {},
   "source": []
  },
  {
   "cell_type": "code",
   "execution_count": 3,
   "id": "aa98e34e",
   "metadata": {},
   "outputs": [
    {
     "name": "stdout",
     "output_type": "stream",
     "text": [
      "/bin/bash: redis-cli: command not found\r\n"
     ]
    }
   ],
   "source": [
    "HSET test count 1\n",
    "HSET test name 'Fester Bestertester'\n",
    "HSET test\n"
   ]
  },
  {
   "cell_type": "markdown",
   "id": "1d76469b",
   "metadata": {},
   "source": [
    "10. Increment the count field of test and print it."
   ]
  },
  {
   "cell_type": "code",
   "execution_count": null,
   "id": "3088ffab",
   "metadata": {},
   "outputs": [],
   "source": []
  },
  {
   "cell_type": "code",
   "execution_count": null,
   "id": "36ed596f",
   "metadata": {},
   "outputs": [],
   "source": [
    "10. Increment the count field of test and print it."
   ]
  },
  {
   "cell_type": "code",
   "execution_count": null,
   "id": "5d61fca8",
   "metadata": {},
   "outputs": [],
   "source": [
    "HINCRBY test count 1\n",
    "HGET test count"
   ]
  },
  {
   "cell_type": "code",
   "execution_count": null,
   "id": "9f621a5a",
   "metadata": {},
   "outputs": [],
   "source": []
  }
 ],
 "metadata": {
  "kernelspec": {
   "display_name": "Python 3 (ipykernel)",
   "language": "python",
   "name": "python3"
  },
  "language_info": {
   "codemirror_mode": {
    "name": "ipython",
    "version": 3
   },
   "file_extension": ".py",
   "mimetype": "text/x-python",
   "name": "python",
   "nbconvert_exporter": "python",
   "pygments_lexer": "ipython3",
   "version": "3.8.10"
  }
 },
 "nbformat": 4,
 "nbformat_minor": 5
}
