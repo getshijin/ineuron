{
 "cells": [
  {
   "cell_type": "markdown",
   "id": "90c8713d",
   "metadata": {},
   "source": [
    "1. Create an assert statement that throws an AssertionError if the variable spam is a negative integer."
   ]
  },
  {
   "cell_type": "markdown",
   "id": "0afce3e6",
   "metadata": {},
   "source": [
    "n Python, the assert statement is used to continue the execute if the given condition evaluates to True. If the assert condition evaluates to False, then it raises the AssertionError exception with the specified error message."
   ]
  },
  {
   "cell_type": "markdown",
   "id": "2c7729e9",
   "metadata": {},
   "source": [
    "2. Write an assert statement that triggers an AssertionError if the variables eggs and bacon contain strings that are the same as each other, even if their cases are different (that is, 'hello' and 'hello' are considered the same, and 'goodbye' and 'GOODbye' are also considered the same)."
   ]
  },
  {
   "cell_type": "code",
   "execution_count": 5,
   "id": "f0c063eb",
   "metadata": {},
   "outputs": [
    {
     "name": "stdout",
     "output_type": "stream",
     "text": [
      "value same\n"
     ]
    }
   ],
   "source": [
    "#eggs= 'hello'\n",
    "#bacon= 'hello'\n",
    "eggs= 'goodbye'\n",
    "bacon= 'GOODbye'\n",
    "\n",
    "assert eggs.lower() == bacon.lower(), 'are not same'\n",
    "print(\"value same\")"
   ]
  },
  {
   "cell_type": "markdown",
   "id": "af7828e0",
   "metadata": {},
   "source": [
    "3. Create an assert statement that throws an AssertionError every time.\n"
   ]
  },
  {
   "cell_type": "markdown",
   "id": "96a94529",
   "metadata": {},
   "source": []
  },
  {
   "cell_type": "markdown",
   "id": "221ffb88",
   "metadata": {},
   "source": [
    "4. What are the two lines that must be present in your software in order to call logging.debug()?\n"
   ]
  },
  {
   "cell_type": "code",
   "execution_count": 6,
   "id": "1aebebd1",
   "metadata": {},
   "outputs": [],
   "source": [
    "import logging\n",
    "\n",
    "logging.basicConfig(level=logging.DEBUG)"
   ]
  },
  {
   "cell_type": "markdown",
   "id": "ae1f6f1a",
   "metadata": {},
   "source": [
    "5. What are the two lines that your program must have in order to have logging.debug() send a logging message to a file named programLog.txt?\n"
   ]
  },
  {
   "cell_type": "code",
   "execution_count": null,
   "id": "e4fc66ba",
   "metadata": {},
   "outputs": [],
   "source": [
    "import logging\n",
    "\n",
    "logging.basicConfig(filename= 'programLog.txt', level=logging.DEBUG)"
   ]
  },
  {
   "cell_type": "markdown",
   "id": "0e3e0015",
   "metadata": {},
   "source": [
    "6. What are the five levels of logging?\n"
   ]
  },
  {
   "cell_type": "markdown",
   "id": "07e90643",
   "metadata": {},
   "source": [
    "Debug, warning, error, critical, info are the five levels of logging"
   ]
  },
  {
   "cell_type": "markdown",
   "id": "a0b23c72",
   "metadata": {},
   "source": [
    "7. What line of code would you add to your software to disable all logging messages?\n"
   ]
  },
  {
   "cell_type": "markdown",
   "id": "e93ed69c",
   "metadata": {},
   "source": [
    "logger.propagate = False"
   ]
  },
  {
   "cell_type": "markdown",
   "id": "3691a718",
   "metadata": {},
   "source": [
    "8.Why is using logging messages better than using print() to display the same message?\n"
   ]
  },
  {
   "cell_type": "markdown",
   "id": "202a2fc5",
   "metadata": {},
   "source": [
    "Easy to see where and when (even what line no.) a logging call is being made from. You can log to files, sockets, pretty much anything, all at the same time. You can differentiate your logging based on severity."
   ]
  },
  {
   "cell_type": "markdown",
   "id": "5def556a",
   "metadata": {},
   "source": [
    "9. What are the differences between the Step Over, Step In, and Step Out buttons in the debugger?\n"
   ]
  },
  {
   "cell_type": "markdown",
   "id": "44fab9f8",
   "metadata": {},
   "source": [
    "If the line does not contain a function it behaves the same as “step over” but if it does the debugger will enter the called function and continue line-by-line debugging there. Step out – An action to take in the debugger that returns to the line where the current function was called."
   ]
  },
  {
   "cell_type": "markdown",
   "id": "e4a31ffb",
   "metadata": {},
   "source": [
    "10.After you click Continue, when will the debugger stop ?\n"
   ]
  },
  {
   "cell_type": "markdown",
   "id": "6cb6a332",
   "metadata": {},
   "source": []
  },
  {
   "cell_type": "markdown",
   "id": "93a4c60a",
   "metadata": {},
   "source": [
    "11. What is the concept of a breakpoint?"
   ]
  },
  {
   "cell_type": "markdown",
   "id": "e7db7ce5",
   "metadata": {},
   "source": [
    "In software development, a breakpoint is an intentional stopping or pausing place in a program, put in place for debugging purposes. It is also sometimes simply referred to as a pause. More generally, a breakpoint is a means of acquiring knowledge about a program during its execution."
   ]
  }
 ],
 "metadata": {
  "kernelspec": {
   "display_name": "Python 3 (ipykernel)",
   "language": "python",
   "name": "python3"
  },
  "language_info": {
   "codemirror_mode": {
    "name": "ipython",
    "version": 3
   },
   "file_extension": ".py",
   "mimetype": "text/x-python",
   "name": "python",
   "nbconvert_exporter": "python",
   "pygments_lexer": "ipython3",
   "version": "3.8.10"
  }
 },
 "nbformat": 4,
 "nbformat_minor": 5
}
