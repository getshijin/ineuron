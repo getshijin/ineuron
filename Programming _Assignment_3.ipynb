{
 "cells": [
  {
   "cell_type": "code",
   "execution_count": null,
   "id": "0495c60f",
   "metadata": {},
   "outputs": [],
   "source": [
    "    1. Write a Python Program to Check if a Number is Positive, Negative or Zero?\n",
    " "
   ]
  },
  {
   "cell_type": "code",
   "execution_count": 3,
   "id": "897d86c9",
   "metadata": {},
   "outputs": [
    {
     "name": "stdout",
     "output_type": "stream",
     "text": [
      "enter the number0\n",
      "the number is zero\n"
     ]
    }
   ],
   "source": [
    "import logging\n",
    "logging.basicConfig(filename='assignment.log', format='%(asctime)s - %(message)s',level=logging.WARNING)\n",
    "try:\n",
    "    number = int(input('enter the number'))\n",
    "    if number > 0:\n",
    "        print('the number is possitive')\n",
    "    elif number < 0 :\n",
    "        print('the number is negative')\n",
    "    else :\n",
    "        print('the number is zero')\n",
    "except Exception as e:\n",
    "    print(e)"
   ]
  },
  {
   "cell_type": "code",
   "execution_count": null,
   "id": "f6082218",
   "metadata": {},
   "outputs": [],
   "source": [
    "   2. Write a Python Program to Check if a Number is Odd or Even?\n"
   ]
  },
  {
   "cell_type": "code",
   "execution_count": 5,
   "id": "f2937009",
   "metadata": {},
   "outputs": [
    {
     "name": "stdout",
     "output_type": "stream",
     "text": [
      "enter number8\n",
      "The number 8is even\n"
     ]
    }
   ],
   "source": [
    "import logging\n",
    "logging.basicConfig(filename='assignment.log',level=logging.WARNING, format='%(asctime)s - %(message)s')\n",
    "\n",
    "try:\n",
    "    number = int(input('enter number'))\n",
    "    if number %2 ==0:\n",
    "        print('The number {} is even'.format(number))\n",
    "    else:\n",
    "        print('The number {} is odd'.format(number))\n",
    "except Exception as e:\n",
    "    print(e)"
   ]
  },
  {
   "cell_type": "code",
   "execution_count": null,
   "id": "27c28dec",
   "metadata": {},
   "outputs": [],
   "source": [
    "    3. Write a Python Program to Check Leap Year?\n"
   ]
  },
  {
   "cell_type": "code",
   "execution_count": 17,
   "id": "fe19ce1a",
   "metadata": {},
   "outputs": [
    {
     "name": "stdout",
     "output_type": "stream",
     "text": [
      "enter the value, enter value in YYYY MM DD format2020 01 01\n",
      " the year 2020 is a leap year \n"
     ]
    }
   ],
   "source": [
    "import logging\n",
    "from datetime import datetime\n",
    "logging.basicConfig(filename='assignment.log', level=logging.WARNING, format='%(asctime)s - %(message)s')\n",
    "\n",
    "try:\n",
    "    date_value=input('enter the value, enter value in YYYY MM DD format')\n",
    "    values = datetime.strptime(date_value,'%Y %m %d')\n",
    "    if values.year % 4== 0 and (values.year %100 != 0 or values.year% 400 == 0):\n",
    "        print (' the year {} is a leap year '. format(values.year))\n",
    "    else:\n",
    "        print('not a leap year')\n",
    "except Exception as e:\n",
    "    print(e)\n",
    "    "
   ]
  },
  {
   "cell_type": "code",
   "execution_count": 20,
   "id": "9a9e2ca2",
   "metadata": {},
   "outputs": [
    {
     "name": "stdout",
     "output_type": "stream",
     "text": [
      "enter the value, enter value in YYYY MM DD format1900 01 01\n",
      "not a leap year\n"
     ]
    }
   ],
   "source": [
    "import logging\n",
    "from datetime import datetime\n",
    "import calendar\n",
    "logging.basicConfig(filename='assignment.log', level=logging.WARNING, format='%(asctime)s - %(message)s')\n",
    "\n",
    "try:\n",
    "    date_value=input('enter the value, enter value in YYYY MM DD format')\n",
    "    values = datetime.strptime(date_value,'%Y %m %d')\n",
    "    if calendar.isleap(values.year) == True:\n",
    "        print (' the year {} is a leap year '. format(values.year))\n",
    "    else:\n",
    "        print('not a leap year')\n",
    "except Exception as e:\n",
    "    print(e)\n",
    "    "
   ]
  },
  {
   "cell_type": "code",
   "execution_count": 15,
   "id": "b60b1b56",
   "metadata": {},
   "outputs": [
    {
     "name": "stdout",
     "output_type": "stream",
     "text": [
      "Object `Number` not found.\n"
     ]
    }
   ],
   "source": [
    "    4. Write a Python Program to Check Prime Number?\n"
   ]
  },
  {
   "cell_type": "code",
   "execution_count": 24,
   "id": "c512b195",
   "metadata": {},
   "outputs": [
    {
     "name": "stdout",
     "output_type": "stream",
     "text": [
      "enter the number13\n",
      "the number is  prime\n"
     ]
    }
   ],
   "source": [
    "import logging\n",
    "logging.basicConfig(filename='assignment.log', level=logging.WARNING, format='%(asctime)s - %(message)s')\n",
    "try:\n",
    "    num = int(input('enter the number'))\n",
    "    flag =0\n",
    "    for i in range(2,num//2):\n",
    "        if num %i ==0:\n",
    "            flag =1\n",
    "    if flag ==1:\n",
    "        print('not a prime')\n",
    "    else:\n",
    "        print('the number is  prime')\n",
    "except Exception as e:\n",
    "    print(e)"
   ]
  },
  {
   "cell_type": "code",
   "execution_count": null,
   "id": "a5b2fb60",
   "metadata": {},
   "outputs": [],
   "source": []
  },
  {
   "cell_type": "code",
   "execution_count": null,
   "id": "fb72419e",
   "metadata": {},
   "outputs": [],
   "source": [
    "    5. Write a Python Program to Print all Prime Numbers in an Interval of 1-10000?"
   ]
  },
  {
   "cell_type": "code",
   "execution_count": 25,
   "id": "9e15c441",
   "metadata": {},
   "outputs": [
    {
     "name": "stdout",
     "output_type": "stream",
     "text": [
      "enter the number20\n",
      "The prime number are \n",
      " [2, 3, 4, 5, 7, 11, 13, 17, 19]\n"
     ]
    }
   ],
   "source": [
    "import logging\n",
    "logging.basicConfig(filename='assignment.log', level=logging.WARNING, format='%(asctime)s - %(message)s')\n",
    "try:\n",
    "    num = int(input('enter the number'))\n",
    "    l= []\n",
    "    for i in range(2,num):\n",
    "        flag =0        \n",
    "        for j in range(2,i//2):\n",
    "            if i %j ==0:\n",
    "                flag =1\n",
    "        if flag ==0:\n",
    "            l.append(i)\n",
    "    print('The prime number are \\n',l)\n",
    "except Exception as e:\n",
    "    print(e)"
   ]
  },
  {
   "cell_type": "code",
   "execution_count": null,
   "id": "1e7fe7e9",
   "metadata": {},
   "outputs": [],
   "source": []
  },
  {
   "cell_type": "code",
   "execution_count": null,
   "id": "31cf8d8c",
   "metadata": {},
   "outputs": [],
   "source": []
  },
  {
   "cell_type": "code",
   "execution_count": null,
   "id": "aebb78d9",
   "metadata": {},
   "outputs": [],
   "source": []
  },
  {
   "cell_type": "code",
   "execution_count": null,
   "id": "178565c6",
   "metadata": {},
   "outputs": [],
   "source": []
  },
  {
   "cell_type": "code",
   "execution_count": null,
   "id": "dbc3bb4d",
   "metadata": {},
   "outputs": [],
   "source": []
  },
  {
   "cell_type": "code",
   "execution_count": null,
   "id": "658d4e8c",
   "metadata": {},
   "outputs": [],
   "source": []
  }
 ],
 "metadata": {
  "kernelspec": {
   "display_name": "Python 3 (ipykernel)",
   "language": "python",
   "name": "python3"
  },
  "language_info": {
   "codemirror_mode": {
    "name": "ipython",
    "version": 3
   },
   "file_extension": ".py",
   "mimetype": "text/x-python",
   "name": "python",
   "nbconvert_exporter": "python",
   "pygments_lexer": "ipython3",
   "version": "3.8.10"
  }
 },
 "nbformat": 4,
 "nbformat_minor": 5
}
