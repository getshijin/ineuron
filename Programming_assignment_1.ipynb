{
 "cells": [
  {
   "cell_type": "code",
   "execution_count": 1,
   "id": "88cb521a",
   "metadata": {},
   "outputs": [
    {
     "ename": "SyntaxError",
     "evalue": "invalid syntax (4258237646.py, line 1)",
     "output_type": "error",
     "traceback": [
      "\u001b[0;36m  File \u001b[0;32m\"/tmp/ipykernel_9432/4258237646.py\"\u001b[0;36m, line \u001b[0;32m1\u001b[0m\n\u001b[0;31m    1. Write a Python program to print \"Hello Python\"?\u001b[0m\n\u001b[0m       ^\u001b[0m\n\u001b[0;31mSyntaxError\u001b[0m\u001b[0;31m:\u001b[0m invalid syntax\n"
     ]
    }
   ],
   "source": [
    "    1. Write a Python program to print \"Hello Python\"?"
   ]
  },
  {
   "cell_type": "code",
   "execution_count": null,
   "id": "3c638eff",
   "metadata": {},
   "outputs": [],
   "source": [
    "print('hello python')"
   ]
  },
  {
   "cell_type": "code",
   "execution_count": null,
   "id": "f797aea3",
   "metadata": {},
   "outputs": [],
   "source": [
    "    2. Write a Python program to do arithmetical operations addition and division.?"
   ]
  },
  {
   "cell_type": "code",
   "execution_count": 4,
   "id": "7d4cde2a",
   "metadata": {},
   "outputs": [
    {
     "name": "stdout",
     "output_type": "stream",
     "text": [
      "5\n",
      "12\n",
      "1.0\n"
     ]
    }
   ],
   "source": [
    "import logging\n",
    "logging.basicConfig(level=logging.WARNING,filename='assignment.log',format='%(asctime)s -%(message)s')\n",
    "\n",
    "try :\n",
    "    a= 1+4\n",
    "    b = 3*4\n",
    "    c = 5/5\n",
    "    print(a)\n",
    "    print(b)\n",
    "    print(c)\n",
    "except Exception as e:\n",
    "    print (e)\n"
   ]
  },
  {
   "cell_type": "code",
   "execution_count": null,
   "id": "66b3c636",
   "metadata": {},
   "outputs": [],
   "source": [
    "    3. Write a Python program to find the area of a triangle?"
   ]
  },
  {
   "cell_type": "code",
   "execution_count": 5,
   "id": "55cd451e",
   "metadata": {},
   "outputs": [
    {
     "name": "stdout",
     "output_type": "stream",
     "text": [
      "enter the base7\n",
      "enter the height9\n",
      "31.5\n"
     ]
    }
   ],
   "source": [
    "import logging\n",
    "logging.basicConfig(filename='assignment.log',level=logging.WARNING,format='%(asctime)s - %(message)s')\n",
    "\n",
    "try:\n",
    "    a =int(input('enter the base'))\n",
    "    b =int(input('enter the height'))\n",
    "    area = 1/2*(a*b)\n",
    "    print(area)\n",
    "except Exception as e:\n",
    "    print(e)"
   ]
  },
  {
   "cell_type": "code",
   "execution_count": null,
   "id": "82f15a94",
   "metadata": {},
   "outputs": [],
   "source": [
    "    4. Write a Python program to swap two variables?\n"
   ]
  },
  {
   "cell_type": "code",
   "execution_count": 7,
   "id": "a9d9329b",
   "metadata": {},
   "outputs": [
    {
     "name": "stdout",
     "output_type": "stream",
     "text": [
      "6    5\n"
     ]
    }
   ],
   "source": [
    "import logging\n",
    "logging.basicConfig(filename='assignment.log',level=logging.WARNING, format='%(asctime)s - %(message)s')\n",
    "\n",
    "try:\n",
    "    a=5\n",
    "    b= 6\n",
    "    a,b = b,a\n",
    "    print(a,\"  \",b)\n",
    "except Exception as e:\n",
    "    print(e)"
   ]
  },
  {
   "cell_type": "code",
   "execution_count": null,
   "id": "b593ae25",
   "metadata": {},
   "outputs": [],
   "source": [
    "    5. Write a Python program to generate a random number?"
   ]
  },
  {
   "cell_type": "code",
   "execution_count": 15,
   "id": "cbc711f2",
   "metadata": {},
   "outputs": [
    {
     "name": "stdout",
     "output_type": "stream",
     "text": [
      "76\n",
      "0.4761525752448019\n",
      "417\n"
     ]
    }
   ],
   "source": [
    "import logging\n",
    "import random\n",
    "logging.basicConfig(filename='assignment.log',level=logging.WARNING, format='%(asctime)s - %(message)s')\n",
    "\n",
    "try:\n",
    "    n = random.randrange(1,100)\n",
    "    m = random.random()\n",
    "    p = random.randint(-10, 1000)\n",
    "    print(n)\n",
    "    print(m)\n",
    "    print(p)\n",
    "\n",
    "except Exception as e:\n",
    "    print(e)\n",
    "    "
   ]
  },
  {
   "cell_type": "code",
   "execution_count": null,
   "id": "ca990d9b",
   "metadata": {},
   "outputs": [],
   "source": []
  }
 ],
 "metadata": {
  "kernelspec": {
   "display_name": "Python 3 (ipykernel)",
   "language": "python",
   "name": "python3"
  },
  "language_info": {
   "codemirror_mode": {
    "name": "ipython",
    "version": 3
   },
   "file_extension": ".py",
   "mimetype": "text/x-python",
   "name": "python",
   "nbconvert_exporter": "python",
   "pygments_lexer": "ipython3",
   "version": "3.8.10"
  }
 },
 "nbformat": 4,
 "nbformat_minor": 5
}
